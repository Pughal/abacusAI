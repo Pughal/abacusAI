{
  "nbformat": 4,
  "nbformat_minor": 0,
  "metadata": {
    "colab": {
      "name": "E2E Platform Demo",
      "provenance": [],
      "collapsed_sections": [],
      "include_colab_link": true
    },
    "kernelspec": {
      "display_name": "Python 3",
      "name": "python3"
    }
  },
  "cells": [
    {
      "cell_type": "markdown",
      "metadata": {
        "id": "view-in-github",
        "colab_type": "text"
      },
      "source": [
        "<a href=\"https://colab.research.google.com/github/Pughal/abacusAI/blob/main/E2E_Platform_Demo.ipynb\" target=\"_parent\"><img src=\"https://colab.research.google.com/assets/colab-badge.svg\" alt=\"Open In Colab\"/></a>"
      ]
    },
    {
      "cell_type": "markdown",
      "metadata": {
        "id": "d-JVavDq-Lxh"
      },
      "source": [
        "## Welcome to the Abacus.AI Developer Workshop\n",
        "This workbook provides you with a hands on environment to take an existing python model and deploy it into Abacus.AI\n",
        "\n",
        "## Prerequisites\n",
        "\n",
        "- [Sign up](https://abacus.ai/app/signup?signupToken=python_models) for an Abacus.AI Account\n",
        "- Once your account is created, navigate to the [API Keys Dashboard](https://abacus.ai/app/profile/apikey) and generate an API key to authenticate your ApiClient\n",
        "\n",
        "\n",
        "---"
      ]
    },
    {
      "cell_type": "markdown",
      "metadata": {
        "id": "Y0ejrLq_-Zl6"
      },
      "source": [
        "## How-to guide for custom Python data transforms and models\n",
        "This notebook provides you with a hands on environment to build and deploy custom python models in the Abacus.AI environment. Custom here refers to both the data transformations required to build a model and the training process used to construct a model from data. Having the custom logic hosted in Abacus.AI then allows for the process to be run automatically to refresh the model as new data arrives and to host the model for the generation of online or batch predictions. In addition, it allows for additional features like monitoring input drift, model performance and other ML Ops requirements."
      ]
    },
    {
      "cell_type": "markdown",
      "metadata": {
        "id": "uIhrIhXeqJJE"
      },
      "source": [
        "1. Install the Abacus.AI library."
      ]
    },
    {
      "cell_type": "code",
      "metadata": {
        "id": "JSsm7EQrmvey",
        "colab": {
          "base_uri": "https://localhost:8080/"
        },
        "outputId": "f457d75f-c18c-40ae-eaf9-ba62bff7248b"
      },
      "source": [
        "!pip install abacusai"
      ],
      "execution_count": 1,
      "outputs": [
        {
          "output_type": "stream",
          "name": "stdout",
          "text": [
            "Collecting abacusai\n",
            "  Downloading abacusai-0.34.3.tar.gz (3.3 MB)\n",
            "\u001b[K     |████████████████████████████████| 3.3 MB 5.0 MB/s \n",
            "\u001b[?25hRequirement already satisfied: packaging in /usr/local/lib/python3.7/dist-packages (from abacusai) (21.3)\n",
            "Requirement already satisfied: requests in /usr/local/lib/python3.7/dist-packages (from abacusai) (2.23.0)\n",
            "Requirement already satisfied: pandas in /usr/local/lib/python3.7/dist-packages (from abacusai) (1.3.5)\n",
            "Collecting fastavro\n",
            "  Downloading fastavro-1.4.9-cp37-cp37m-manylinux_2_17_x86_64.manylinux2014_x86_64.whl (2.3 MB)\n",
            "\u001b[K     |████████████████████████████████| 2.3 MB 42.4 MB/s \n",
            "\u001b[?25hRequirement already satisfied: pyparsing!=3.0.5,>=2.0.2 in /usr/local/lib/python3.7/dist-packages (from packaging->abacusai) (3.0.7)\n",
            "Requirement already satisfied: python-dateutil>=2.7.3 in /usr/local/lib/python3.7/dist-packages (from pandas->abacusai) (2.8.2)\n",
            "Requirement already satisfied: numpy>=1.17.3 in /usr/local/lib/python3.7/dist-packages (from pandas->abacusai) (1.21.5)\n",
            "Requirement already satisfied: pytz>=2017.3 in /usr/local/lib/python3.7/dist-packages (from pandas->abacusai) (2018.9)\n",
            "Requirement already satisfied: six>=1.5 in /usr/local/lib/python3.7/dist-packages (from python-dateutil>=2.7.3->pandas->abacusai) (1.15.0)\n",
            "Requirement already satisfied: urllib3!=1.25.0,!=1.25.1,<1.26,>=1.21.1 in /usr/local/lib/python3.7/dist-packages (from requests->abacusai) (1.24.3)\n",
            "Requirement already satisfied: certifi>=2017.4.17 in /usr/local/lib/python3.7/dist-packages (from requests->abacusai) (2021.10.8)\n",
            "Requirement already satisfied: chardet<4,>=3.0.2 in /usr/local/lib/python3.7/dist-packages (from requests->abacusai) (3.0.4)\n",
            "Requirement already satisfied: idna<3,>=2.5 in /usr/local/lib/python3.7/dist-packages (from requests->abacusai) (2.10)\n",
            "Building wheels for collected packages: abacusai\n",
            "  Building wheel for abacusai (setup.py) ... \u001b[?25l\u001b[?25hdone\n",
            "  Created wheel for abacusai: filename=abacusai-0.34.3-py3-none-any.whl size=118020 sha256=ba943f19db122fe0db16070971db99be8dc7fe5351f11f5a38d61a25b8561e6c\n",
            "  Stored in directory: /root/.cache/pip/wheels/19/af/9c/961d3284bf3ccc4513c7150c6da17c38edb6300b81c05df8d3\n",
            "Successfully built abacusai\n",
            "Installing collected packages: fastavro, abacusai\n",
            "Successfully installed abacusai-0.34.3 fastavro-1.4.9\n"
          ]
        }
      ]
    },
    {
      "cell_type": "markdown",
      "metadata": {
        "id": "izrh6I2aqlTa"
      },
      "source": [
        "2. Add your Abacus.AI [API Key](https://abacus.ai/app/profile/apikey) generated using the API dashboard as follows:"
      ]
    },
    {
      "cell_type": "code",
      "metadata": {
        "id": "d8TJ_-Qamz5x"
      },
      "source": [
        "#@title Abacus.AI API Key\n",
        "\n",
        "api_key = '64b6ab3d5bba4db0812981f4d512608d'  #@param {type: \"string\"}"
      ],
      "execution_count": 2,
      "outputs": []
    },
    {
      "cell_type": "markdown",
      "metadata": {
        "id": "fqpb-UfFqmzs"
      },
      "source": [
        "3. Import the Abacus.AI library and instantiate a client."
      ]
    },
    {
      "cell_type": "code",
      "metadata": {
        "id": "U8M1MoB0m1DV"
      },
      "source": [
        "from abacusai import ApiClient, ApiException\n",
        "client = ApiClient(api_key)"
      ],
      "execution_count": 3,
      "outputs": []
    },
    {
      "cell_type": "markdown",
      "metadata": {
        "id": "2tXzo8ZRqodi"
      },
      "source": [
        "## 1. Create a Project\n",
        "\n"
      ]
    },
    {
      "cell_type": "markdown",
      "metadata": {
        "id": "ZWSjEJ7AqrQW"
      },
      "source": [
        "In this notebook, we're going to see how to use python to customize models in Abacus. We will cover custom data transforms, model training and prediction handling. Projects that will be hosting a custom model needed to be created with the `PYTHON_MODEL` use case. Note that custom python data transforms can be used in any kind of project and like any other feature group can be shared across projects. However, custom training algorithms and prediction functions are enabled by this use case."
      ]
    },
    {
      "cell_type": "code",
      "metadata": {
        "id": "8idfft0im5ci"
      },
      "source": [
        "project = client.create_project(name='Demo Python Model', use_case='PYTHON_MODEL')"
      ],
      "execution_count": 4,
      "outputs": []
    },
    {
      "cell_type": "markdown",
      "metadata": {
        "id": "wS8T5vcLrIlg"
      },
      "source": [
        "## 2. Creating Datasets\n",
        "\n",
        "Abacus.AI can read datasets directly from File blob storage\n",
        "\n",
        "We are going to use a single dataset for this project.\n",
        "- [Concrete Strength](https://s3.amazonaws.com/abacusai.exampledatasets/predicting/concrete_measurements.csv)\n"
      ]
    },
    {
      "cell_type": "markdown",
      "metadata": {
        "id": "2R3p7tAkrwPv"
      },
      "source": [
        "### Add the datasets to Abacus.AI\n"
      ]
    },
    {
      "cell_type": "markdown",
      "metadata": {
        "id": "0mDVrJYKrzB9"
      },
      "source": [
        "Using the Create Dataset API, we can tell Abacus.AI the public S3 URI of where to find the datasets.\n",
        "\n"
      ]
    },
    {
      "cell_type": "code",
      "metadata": {
        "id": "oi6qwR46m71i"
      },
      "source": [
        "# if the dataset already exists, skip creation\n",
        "try: \n",
        "  concrete_dataset = client.describe_dataset(client.describe_feature_group_by_table_name('concrete_strength').dataset_id)\n",
        "except ApiException: # dataset not found\n",
        "  concrete_dataset = client.create_dataset_from_file_connector(\n",
        "      name='Concrete Strength',\n",
        "      table_name='concrete_strength',\n",
        "      location='s3://abacusai.exampledatasets/predicting/concrete_measurements.csv')\n",
        "  concrete_dataset.wait_for_inspection()"
      ],
      "execution_count": 5,
      "outputs": []
    },
    {
      "cell_type": "markdown",
      "metadata": {
        "id": "oRKjHmJDYsZS"
      },
      "source": [
        "### Load the dataset so we can build and test the transform.\n",
        "\n",
        "Most of the time it is easiest to develop custom transformations on your local machine. It makes iteration, inspection and debugging easier and often you can do it directly in a notebook environment. To enable simple local development you can use the Abacus.AI client to load your dataset as a pandas dataframe. This tends to work well if your dataset is under `100MB` but for datasets that get much larger you will likely want to construct a sampled feature group for development.\n",
        "\n",
        "Here we are working with a fairly small dataset so can easily load it into memory. The first block fetches the feature group corresponding to the dataset (datasets are used to move data into Abacus.AI, feature groups are used to consume data for various operations). It initiates a materialization of the feature group to generate a snapshot, waits for it to be ready and then loads it as a pandas dataframe."
      ]
    },
    {
      "cell_type": "code",
      "metadata": {
        "id": "2egrfrygYfU6",
        "colab": {
          "base_uri": "https://localhost:8080/",
          "height": 363
        },
        "outputId": "a7bc188d-e712-4d98-9161-1100a3c8a74d"
      },
      "source": [
        "concrete_feature_group = concrete_dataset.describe_feature_group()\n",
        "if not concrete_feature_group.list_versions():\n",
        "  concrete_feature_group.create_version()\n",
        "concrete_feature_group.wait_for_materialization()\n",
        "\n",
        "concrete_df = concrete_feature_group.load_as_pandas()\n",
        "concrete_df[:10]"
      ],
      "execution_count": 6,
      "outputs": [
        {
          "output_type": "execute_result",
          "data": {
            "text/html": [
              "\n",
              "  <div id=\"df-63215b7c-e014-499f-be01-74aaf65e3a23\">\n",
              "    <div class=\"colab-df-container\">\n",
              "      <div>\n",
              "<style scoped>\n",
              "    .dataframe tbody tr th:only-of-type {\n",
              "        vertical-align: middle;\n",
              "    }\n",
              "\n",
              "    .dataframe tbody tr th {\n",
              "        vertical-align: top;\n",
              "    }\n",
              "\n",
              "    .dataframe thead th {\n",
              "        text-align: right;\n",
              "    }\n",
              "</style>\n",
              "<table border=\"1\" class=\"dataframe\">\n",
              "  <thead>\n",
              "    <tr style=\"text-align: right;\">\n",
              "      <th></th>\n",
              "      <th>cement</th>\n",
              "      <th>slag</th>\n",
              "      <th>flyash</th>\n",
              "      <th>water</th>\n",
              "      <th>superplasticizer</th>\n",
              "      <th>coarseaggregate</th>\n",
              "      <th>fineaggregate</th>\n",
              "      <th>age</th>\n",
              "      <th>csMPa</th>\n",
              "    </tr>\n",
              "  </thead>\n",
              "  <tbody>\n",
              "    <tr>\n",
              "      <th>0</th>\n",
              "      <td>540.0</td>\n",
              "      <td>0.0</td>\n",
              "      <td>0.0</td>\n",
              "      <td>162.0</td>\n",
              "      <td>2.5</td>\n",
              "      <td>1040.0</td>\n",
              "      <td>676.0</td>\n",
              "      <td>28.0</td>\n",
              "      <td>79.99</td>\n",
              "    </tr>\n",
              "    <tr>\n",
              "      <th>1</th>\n",
              "      <td>540.0</td>\n",
              "      <td>0.0</td>\n",
              "      <td>0.0</td>\n",
              "      <td>162.0</td>\n",
              "      <td>2.5</td>\n",
              "      <td>1055.0</td>\n",
              "      <td>676.0</td>\n",
              "      <td>28.0</td>\n",
              "      <td>61.89</td>\n",
              "    </tr>\n",
              "    <tr>\n",
              "      <th>2</th>\n",
              "      <td>332.5</td>\n",
              "      <td>142.5</td>\n",
              "      <td>0.0</td>\n",
              "      <td>228.0</td>\n",
              "      <td>0.0</td>\n",
              "      <td>932.0</td>\n",
              "      <td>594.0</td>\n",
              "      <td>270.0</td>\n",
              "      <td>40.27</td>\n",
              "    </tr>\n",
              "    <tr>\n",
              "      <th>3</th>\n",
              "      <td>332.5</td>\n",
              "      <td>142.5</td>\n",
              "      <td>0.0</td>\n",
              "      <td>228.0</td>\n",
              "      <td>0.0</td>\n",
              "      <td>932.0</td>\n",
              "      <td>594.0</td>\n",
              "      <td>365.0</td>\n",
              "      <td>41.05</td>\n",
              "    </tr>\n",
              "    <tr>\n",
              "      <th>4</th>\n",
              "      <td>198.6</td>\n",
              "      <td>132.4</td>\n",
              "      <td>0.0</td>\n",
              "      <td>192.0</td>\n",
              "      <td>0.0</td>\n",
              "      <td>978.4</td>\n",
              "      <td>825.5</td>\n",
              "      <td>360.0</td>\n",
              "      <td>44.30</td>\n",
              "    </tr>\n",
              "    <tr>\n",
              "      <th>5</th>\n",
              "      <td>266.0</td>\n",
              "      <td>114.0</td>\n",
              "      <td>0.0</td>\n",
              "      <td>228.0</td>\n",
              "      <td>0.0</td>\n",
              "      <td>932.0</td>\n",
              "      <td>670.0</td>\n",
              "      <td>90.0</td>\n",
              "      <td>47.03</td>\n",
              "    </tr>\n",
              "    <tr>\n",
              "      <th>6</th>\n",
              "      <td>380.0</td>\n",
              "      <td>95.0</td>\n",
              "      <td>0.0</td>\n",
              "      <td>228.0</td>\n",
              "      <td>0.0</td>\n",
              "      <td>932.0</td>\n",
              "      <td>594.0</td>\n",
              "      <td>365.0</td>\n",
              "      <td>43.70</td>\n",
              "    </tr>\n",
              "    <tr>\n",
              "      <th>7</th>\n",
              "      <td>380.0</td>\n",
              "      <td>95.0</td>\n",
              "      <td>0.0</td>\n",
              "      <td>228.0</td>\n",
              "      <td>0.0</td>\n",
              "      <td>932.0</td>\n",
              "      <td>594.0</td>\n",
              "      <td>28.0</td>\n",
              "      <td>36.45</td>\n",
              "    </tr>\n",
              "    <tr>\n",
              "      <th>8</th>\n",
              "      <td>266.0</td>\n",
              "      <td>114.0</td>\n",
              "      <td>0.0</td>\n",
              "      <td>228.0</td>\n",
              "      <td>0.0</td>\n",
              "      <td>932.0</td>\n",
              "      <td>670.0</td>\n",
              "      <td>28.0</td>\n",
              "      <td>45.85</td>\n",
              "    </tr>\n",
              "    <tr>\n",
              "      <th>9</th>\n",
              "      <td>475.0</td>\n",
              "      <td>0.0</td>\n",
              "      <td>0.0</td>\n",
              "      <td>228.0</td>\n",
              "      <td>0.0</td>\n",
              "      <td>932.0</td>\n",
              "      <td>594.0</td>\n",
              "      <td>28.0</td>\n",
              "      <td>39.29</td>\n",
              "    </tr>\n",
              "  </tbody>\n",
              "</table>\n",
              "</div>\n",
              "      <button class=\"colab-df-convert\" onclick=\"convertToInteractive('df-63215b7c-e014-499f-be01-74aaf65e3a23')\"\n",
              "              title=\"Convert this dataframe to an interactive table.\"\n",
              "              style=\"display:none;\">\n",
              "        \n",
              "  <svg xmlns=\"http://www.w3.org/2000/svg\" height=\"24px\"viewBox=\"0 0 24 24\"\n",
              "       width=\"24px\">\n",
              "    <path d=\"M0 0h24v24H0V0z\" fill=\"none\"/>\n",
              "    <path d=\"M18.56 5.44l.94 2.06.94-2.06 2.06-.94-2.06-.94-.94-2.06-.94 2.06-2.06.94zm-11 1L8.5 8.5l.94-2.06 2.06-.94-2.06-.94L8.5 2.5l-.94 2.06-2.06.94zm10 10l.94 2.06.94-2.06 2.06-.94-2.06-.94-.94-2.06-.94 2.06-2.06.94z\"/><path d=\"M17.41 7.96l-1.37-1.37c-.4-.4-.92-.59-1.43-.59-.52 0-1.04.2-1.43.59L10.3 9.45l-7.72 7.72c-.78.78-.78 2.05 0 2.83L4 21.41c.39.39.9.59 1.41.59.51 0 1.02-.2 1.41-.59l7.78-7.78 2.81-2.81c.8-.78.8-2.07 0-2.86zM5.41 20L4 18.59l7.72-7.72 1.47 1.35L5.41 20z\"/>\n",
              "  </svg>\n",
              "      </button>\n",
              "      \n",
              "  <style>\n",
              "    .colab-df-container {\n",
              "      display:flex;\n",
              "      flex-wrap:wrap;\n",
              "      gap: 12px;\n",
              "    }\n",
              "\n",
              "    .colab-df-convert {\n",
              "      background-color: #E8F0FE;\n",
              "      border: none;\n",
              "      border-radius: 50%;\n",
              "      cursor: pointer;\n",
              "      display: none;\n",
              "      fill: #1967D2;\n",
              "      height: 32px;\n",
              "      padding: 0 0 0 0;\n",
              "      width: 32px;\n",
              "    }\n",
              "\n",
              "    .colab-df-convert:hover {\n",
              "      background-color: #E2EBFA;\n",
              "      box-shadow: 0px 1px 2px rgba(60, 64, 67, 0.3), 0px 1px 3px 1px rgba(60, 64, 67, 0.15);\n",
              "      fill: #174EA6;\n",
              "    }\n",
              "\n",
              "    [theme=dark] .colab-df-convert {\n",
              "      background-color: #3B4455;\n",
              "      fill: #D2E3FC;\n",
              "    }\n",
              "\n",
              "    [theme=dark] .colab-df-convert:hover {\n",
              "      background-color: #434B5C;\n",
              "      box-shadow: 0px 1px 3px 1px rgba(0, 0, 0, 0.15);\n",
              "      filter: drop-shadow(0px 1px 2px rgba(0, 0, 0, 0.3));\n",
              "      fill: #FFFFFF;\n",
              "    }\n",
              "  </style>\n",
              "\n",
              "      <script>\n",
              "        const buttonEl =\n",
              "          document.querySelector('#df-63215b7c-e014-499f-be01-74aaf65e3a23 button.colab-df-convert');\n",
              "        buttonEl.style.display =\n",
              "          google.colab.kernel.accessAllowed ? 'block' : 'none';\n",
              "\n",
              "        async function convertToInteractive(key) {\n",
              "          const element = document.querySelector('#df-63215b7c-e014-499f-be01-74aaf65e3a23');\n",
              "          const dataTable =\n",
              "            await google.colab.kernel.invokeFunction('convertToInteractive',\n",
              "                                                     [key], {});\n",
              "          if (!dataTable) return;\n",
              "\n",
              "          const docLinkHtml = 'Like what you see? Visit the ' +\n",
              "            '<a target=\"_blank\" href=https://colab.research.google.com/notebooks/data_table.ipynb>data table notebook</a>'\n",
              "            + ' to learn more about interactive tables.';\n",
              "          element.innerHTML = '';\n",
              "          dataTable['output_type'] = 'display_data';\n",
              "          await google.colab.output.renderOutput(dataTable, element);\n",
              "          const docLink = document.createElement('div');\n",
              "          docLink.innerHTML = docLinkHtml;\n",
              "          element.appendChild(docLink);\n",
              "        }\n",
              "      </script>\n",
              "    </div>\n",
              "  </div>\n",
              "  "
            ],
            "text/plain": [
              "   cement   slag  flyash  water  ...  coarseaggregate  fineaggregate    age  csMPa\n",
              "0   540.0    0.0     0.0  162.0  ...           1040.0          676.0   28.0  79.99\n",
              "1   540.0    0.0     0.0  162.0  ...           1055.0          676.0   28.0  61.89\n",
              "2   332.5  142.5     0.0  228.0  ...            932.0          594.0  270.0  40.27\n",
              "3   332.5  142.5     0.0  228.0  ...            932.0          594.0  365.0  41.05\n",
              "4   198.6  132.4     0.0  192.0  ...            978.4          825.5  360.0  44.30\n",
              "5   266.0  114.0     0.0  228.0  ...            932.0          670.0   90.0  47.03\n",
              "6   380.0   95.0     0.0  228.0  ...            932.0          594.0  365.0  43.70\n",
              "7   380.0   95.0     0.0  228.0  ...            932.0          594.0   28.0  36.45\n",
              "8   266.0  114.0     0.0  228.0  ...            932.0          670.0   28.0  45.85\n",
              "9   475.0    0.0     0.0  228.0  ...            932.0          594.0   28.0  39.29\n",
              "\n",
              "[10 rows x 9 columns]"
            ]
          },
          "metadata": {},
          "execution_count": 6
        }
      ]
    },
    {
      "cell_type": "markdown",
      "metadata": {
        "id": "YycOfEOgZSiP"
      },
      "source": [
        "#### Custom Data Transform\n",
        "We are going to transform the dataset so that flyash is no longer a feature but instead all the other values are transformed according to whether they have `flyash > 0` or not.\n",
        "\n",
        "The example is not entirely realistic and it is certainly feasible to achieve the same result using SQL. However, the point is to illustrate that you are free to transform the dataset using the full functionality of python and its data frameworks. Here we are using pandas but you can use a wide range of standard python libraries to manipulate the data. Additionally, you can bundle resources with your code, for example small maps or tables, that can be accessed by your function to implement the transform.\n",
        "\n",
        "Note that we test the function locally by running it against the dataframe loaded from the feature group."
      ]
    },
    {
      "cell_type": "code",
      "metadata": {
        "id": "zSpGvxlsZHlx",
        "colab": {
          "base_uri": "https://localhost:8080/",
          "height": 363
        },
        "outputId": "d7613f35-ff48-4d07-db71-5f13bb0b8f16"
      },
      "source": [
        "def transform_concrete(concrete_dataset):\n",
        "  import pandas as pd\n",
        "  feature_df = concrete_dataset.drop(['flyash'], axis=1)\n",
        "  no_flyash = feature_df[concrete_dataset.flyash == 0.0]\n",
        "  flyash = feature_df[concrete_dataset.flyash > 0.0]\n",
        "  return pd.concat([no_flyash - no_flyash.assign(age=0).mean(), flyash - flyash.assign(age=0).mean()])\n",
        "\n",
        "concrete_by_flyash_df = transform_concrete(concrete_df)\n",
        "concrete_by_flyash_df[:10]"
      ],
      "execution_count": 7,
      "outputs": [
        {
          "output_type": "execute_result",
          "data": {
            "text/html": [
              "\n",
              "  <div id=\"df-cfabb366-e14a-4f41-9a0f-477e1b854355\">\n",
              "    <div class=\"colab-df-container\">\n",
              "      <div>\n",
              "<style scoped>\n",
              "    .dataframe tbody tr th:only-of-type {\n",
              "        vertical-align: middle;\n",
              "    }\n",
              "\n",
              "    .dataframe tbody tr th {\n",
              "        vertical-align: top;\n",
              "    }\n",
              "\n",
              "    .dataframe thead th {\n",
              "        text-align: right;\n",
              "    }\n",
              "</style>\n",
              "<table border=\"1\" class=\"dataframe\">\n",
              "  <thead>\n",
              "    <tr style=\"text-align: right;\">\n",
              "      <th></th>\n",
              "      <th>cement</th>\n",
              "      <th>slag</th>\n",
              "      <th>water</th>\n",
              "      <th>superplasticizer</th>\n",
              "      <th>coarseaggregate</th>\n",
              "      <th>fineaggregate</th>\n",
              "      <th>age</th>\n",
              "      <th>csMPa</th>\n",
              "    </tr>\n",
              "  </thead>\n",
              "  <tbody>\n",
              "    <tr>\n",
              "      <th>0</th>\n",
              "      <td>225.962191</td>\n",
              "      <td>-100.110247</td>\n",
              "      <td>-24.616784</td>\n",
              "      <td>-1.555654</td>\n",
              "      <td>66.64258</td>\n",
              "      <td>-88.853004</td>\n",
              "      <td>28.0</td>\n",
              "      <td>43.218216</td>\n",
              "    </tr>\n",
              "    <tr>\n",
              "      <th>1</th>\n",
              "      <td>225.962191</td>\n",
              "      <td>-100.110247</td>\n",
              "      <td>-24.616784</td>\n",
              "      <td>-1.555654</td>\n",
              "      <td>81.64258</td>\n",
              "      <td>-88.853004</td>\n",
              "      <td>28.0</td>\n",
              "      <td>25.118216</td>\n",
              "    </tr>\n",
              "    <tr>\n",
              "      <th>2</th>\n",
              "      <td>18.462191</td>\n",
              "      <td>42.389753</td>\n",
              "      <td>41.383216</td>\n",
              "      <td>-4.055654</td>\n",
              "      <td>-41.35742</td>\n",
              "      <td>-170.853004</td>\n",
              "      <td>270.0</td>\n",
              "      <td>3.498216</td>\n",
              "    </tr>\n",
              "    <tr>\n",
              "      <th>3</th>\n",
              "      <td>18.462191</td>\n",
              "      <td>42.389753</td>\n",
              "      <td>41.383216</td>\n",
              "      <td>-4.055654</td>\n",
              "      <td>-41.35742</td>\n",
              "      <td>-170.853004</td>\n",
              "      <td>365.0</td>\n",
              "      <td>4.278216</td>\n",
              "    </tr>\n",
              "    <tr>\n",
              "      <th>4</th>\n",
              "      <td>-115.437809</td>\n",
              "      <td>32.289753</td>\n",
              "      <td>5.383216</td>\n",
              "      <td>-4.055654</td>\n",
              "      <td>5.04258</td>\n",
              "      <td>60.646996</td>\n",
              "      <td>360.0</td>\n",
              "      <td>7.528216</td>\n",
              "    </tr>\n",
              "    <tr>\n",
              "      <th>5</th>\n",
              "      <td>-48.037809</td>\n",
              "      <td>13.889753</td>\n",
              "      <td>41.383216</td>\n",
              "      <td>-4.055654</td>\n",
              "      <td>-41.35742</td>\n",
              "      <td>-94.853004</td>\n",
              "      <td>90.0</td>\n",
              "      <td>10.258216</td>\n",
              "    </tr>\n",
              "    <tr>\n",
              "      <th>6</th>\n",
              "      <td>65.962191</td>\n",
              "      <td>-5.110247</td>\n",
              "      <td>41.383216</td>\n",
              "      <td>-4.055654</td>\n",
              "      <td>-41.35742</td>\n",
              "      <td>-170.853004</td>\n",
              "      <td>365.0</td>\n",
              "      <td>6.928216</td>\n",
              "    </tr>\n",
              "    <tr>\n",
              "      <th>7</th>\n",
              "      <td>65.962191</td>\n",
              "      <td>-5.110247</td>\n",
              "      <td>41.383216</td>\n",
              "      <td>-4.055654</td>\n",
              "      <td>-41.35742</td>\n",
              "      <td>-170.853004</td>\n",
              "      <td>28.0</td>\n",
              "      <td>-0.321784</td>\n",
              "    </tr>\n",
              "    <tr>\n",
              "      <th>8</th>\n",
              "      <td>-48.037809</td>\n",
              "      <td>13.889753</td>\n",
              "      <td>41.383216</td>\n",
              "      <td>-4.055654</td>\n",
              "      <td>-41.35742</td>\n",
              "      <td>-94.853004</td>\n",
              "      <td>28.0</td>\n",
              "      <td>9.078216</td>\n",
              "    </tr>\n",
              "    <tr>\n",
              "      <th>9</th>\n",
              "      <td>160.962191</td>\n",
              "      <td>-100.110247</td>\n",
              "      <td>41.383216</td>\n",
              "      <td>-4.055654</td>\n",
              "      <td>-41.35742</td>\n",
              "      <td>-170.853004</td>\n",
              "      <td>28.0</td>\n",
              "      <td>2.518216</td>\n",
              "    </tr>\n",
              "  </tbody>\n",
              "</table>\n",
              "</div>\n",
              "      <button class=\"colab-df-convert\" onclick=\"convertToInteractive('df-cfabb366-e14a-4f41-9a0f-477e1b854355')\"\n",
              "              title=\"Convert this dataframe to an interactive table.\"\n",
              "              style=\"display:none;\">\n",
              "        \n",
              "  <svg xmlns=\"http://www.w3.org/2000/svg\" height=\"24px\"viewBox=\"0 0 24 24\"\n",
              "       width=\"24px\">\n",
              "    <path d=\"M0 0h24v24H0V0z\" fill=\"none\"/>\n",
              "    <path d=\"M18.56 5.44l.94 2.06.94-2.06 2.06-.94-2.06-.94-.94-2.06-.94 2.06-2.06.94zm-11 1L8.5 8.5l.94-2.06 2.06-.94-2.06-.94L8.5 2.5l-.94 2.06-2.06.94zm10 10l.94 2.06.94-2.06 2.06-.94-2.06-.94-.94-2.06-.94 2.06-2.06.94z\"/><path d=\"M17.41 7.96l-1.37-1.37c-.4-.4-.92-.59-1.43-.59-.52 0-1.04.2-1.43.59L10.3 9.45l-7.72 7.72c-.78.78-.78 2.05 0 2.83L4 21.41c.39.39.9.59 1.41.59.51 0 1.02-.2 1.41-.59l7.78-7.78 2.81-2.81c.8-.78.8-2.07 0-2.86zM5.41 20L4 18.59l7.72-7.72 1.47 1.35L5.41 20z\"/>\n",
              "  </svg>\n",
              "      </button>\n",
              "      \n",
              "  <style>\n",
              "    .colab-df-container {\n",
              "      display:flex;\n",
              "      flex-wrap:wrap;\n",
              "      gap: 12px;\n",
              "    }\n",
              "\n",
              "    .colab-df-convert {\n",
              "      background-color: #E8F0FE;\n",
              "      border: none;\n",
              "      border-radius: 50%;\n",
              "      cursor: pointer;\n",
              "      display: none;\n",
              "      fill: #1967D2;\n",
              "      height: 32px;\n",
              "      padding: 0 0 0 0;\n",
              "      width: 32px;\n",
              "    }\n",
              "\n",
              "    .colab-df-convert:hover {\n",
              "      background-color: #E2EBFA;\n",
              "      box-shadow: 0px 1px 2px rgba(60, 64, 67, 0.3), 0px 1px 3px 1px rgba(60, 64, 67, 0.15);\n",
              "      fill: #174EA6;\n",
              "    }\n",
              "\n",
              "    [theme=dark] .colab-df-convert {\n",
              "      background-color: #3B4455;\n",
              "      fill: #D2E3FC;\n",
              "    }\n",
              "\n",
              "    [theme=dark] .colab-df-convert:hover {\n",
              "      background-color: #434B5C;\n",
              "      box-shadow: 0px 1px 3px 1px rgba(0, 0, 0, 0.15);\n",
              "      filter: drop-shadow(0px 1px 2px rgba(0, 0, 0, 0.3));\n",
              "      fill: #FFFFFF;\n",
              "    }\n",
              "  </style>\n",
              "\n",
              "      <script>\n",
              "        const buttonEl =\n",
              "          document.querySelector('#df-cfabb366-e14a-4f41-9a0f-477e1b854355 button.colab-df-convert');\n",
              "        buttonEl.style.display =\n",
              "          google.colab.kernel.accessAllowed ? 'block' : 'none';\n",
              "\n",
              "        async function convertToInteractive(key) {\n",
              "          const element = document.querySelector('#df-cfabb366-e14a-4f41-9a0f-477e1b854355');\n",
              "          const dataTable =\n",
              "            await google.colab.kernel.invokeFunction('convertToInteractive',\n",
              "                                                     [key], {});\n",
              "          if (!dataTable) return;\n",
              "\n",
              "          const docLinkHtml = 'Like what you see? Visit the ' +\n",
              "            '<a target=\"_blank\" href=https://colab.research.google.com/notebooks/data_table.ipynb>data table notebook</a>'\n",
              "            + ' to learn more about interactive tables.';\n",
              "          element.innerHTML = '';\n",
              "          dataTable['output_type'] = 'display_data';\n",
              "          await google.colab.output.renderOutput(dataTable, element);\n",
              "          const docLink = document.createElement('div');\n",
              "          docLink.innerHTML = docLinkHtml;\n",
              "          element.appendChild(docLink);\n",
              "        }\n",
              "      </script>\n",
              "    </div>\n",
              "  </div>\n",
              "  "
            ],
            "text/plain": [
              "       cement        slag      water  ...  fineaggregate    age      csMPa\n",
              "0  225.962191 -100.110247 -24.616784  ...     -88.853004   28.0  43.218216\n",
              "1  225.962191 -100.110247 -24.616784  ...     -88.853004   28.0  25.118216\n",
              "2   18.462191   42.389753  41.383216  ...    -170.853004  270.0   3.498216\n",
              "3   18.462191   42.389753  41.383216  ...    -170.853004  365.0   4.278216\n",
              "4 -115.437809   32.289753   5.383216  ...      60.646996  360.0   7.528216\n",
              "5  -48.037809   13.889753  41.383216  ...     -94.853004   90.0  10.258216\n",
              "6   65.962191   -5.110247  41.383216  ...    -170.853004  365.0   6.928216\n",
              "7   65.962191   -5.110247  41.383216  ...    -170.853004   28.0  -0.321784\n",
              "8  -48.037809   13.889753  41.383216  ...     -94.853004   28.0   9.078216\n",
              "9  160.962191 -100.110247  41.383216  ...    -170.853004   28.0   2.518216\n",
              "\n",
              "[10 rows x 8 columns]"
            ]
          },
          "metadata": {},
          "execution_count": 7
        }
      ]
    },
    {
      "cell_type": "markdown",
      "metadata": {
        "id": "wGSdSuifcyzC"
      },
      "source": [
        "### Registering Python Functions\n",
        "\n",
        "Now that we have a working transform the next step is to register it with Abacus.AI to allow it to run the function when required by workflows. For simple self-contained functions we can just pass the function to the client and it will build a suitable resource to ship the python code to Abacus.AI. For more complicated functions and in cases where additional resources are required you can instead build an archive and add it to the registration function.\n",
        "\n",
        "Registering the function involves supplying the source artifact, the name of the function implementing the transform and a list of required input feature groups. These feature groups will be passed as dataframe arguments to the functions. Optionally, you can also supply configuration options as keywork arguments that can alter the behavior of the function. For example, the same function may be used to construct two different feature groups differing only in the keyword arguments.\n",
        "\n",
        "Note, that Abacus.AI will ensure that the function is operating on the latest versions of the input feature groups."
      ]
    },
    {
      "cell_type": "code",
      "metadata": {
        "id": "7siYsLdIZ3bL"
      },
      "source": [
        "concrete_flyash = client.create_feature_group_from_function(\n",
        "    table_name='concrete_by_flyash',\n",
        "    function_source_code=transform_concrete,\n",
        "    function_name='transform_concrete',\n",
        "    input_feature_groups=['concrete_strength'])"
      ],
      "execution_count": 8,
      "outputs": []
    },
    {
      "cell_type": "code",
      "metadata": {
        "id": "vGJy2yoPa8kV"
      },
      "source": [
        "concrete_flyash.create_version()\n",
        "concrete_flyash.wait_for_materialization()\n",
        "concrete_by_flyash_df = concrete_flyash.load_as_pandas()"
      ],
      "execution_count": 9,
      "outputs": []
    },
    {
      "cell_type": "markdown",
      "metadata": {
        "id": "2pv5fjeObtrF"
      },
      "source": [
        "### Custom Model\n",
        "Now we will define a custom model trained on this flyash partitioned data. A custom training function is similar in many ways to a custom transform. The main difference being instead of returning a new dataframe with the transformed data it returns an object containing the trained model. It is required that object returned should be pickleable by the standard python `pickle` library. However, the model is free to serialize additional data to local disk in the current working directory. The contents of the working directory will be made available at prediction time. There is support for supplying an initialization function along with prediction function that will receive the unpickled model object and transform it based on data loaded from disk to use at prediction. This will be covered in more detail later.\n",
        "\n",
        "To illustrate that the training can be customized arbitrarily we will train a composite model that depending on the age of the concrete uses a linear model on quantized features or a GBDT trained on raw inputs."
      ]
    },
    {
      "cell_type": "code",
      "metadata": {
        "id": "uZruY_-2bssl",
        "colab": {
          "base_uri": "https://localhost:8080/"
        },
        "outputId": "9b7517a5-87c1-4ff9-eb02-7750288091dd"
      },
      "source": [
        "!pip install catboost"
      ],
      "execution_count": 10,
      "outputs": [
        {
          "output_type": "stream",
          "name": "stdout",
          "text": [
            "Collecting catboost\n",
            "  Downloading catboost-1.0.4-cp37-none-manylinux1_x86_64.whl (76.1 MB)\n",
            "\u001b[K     |████████████████████████████████| 76.1 MB 1.4 MB/s \n",
            "\u001b[?25hRequirement already satisfied: six in /usr/local/lib/python3.7/dist-packages (from catboost) (1.15.0)\n",
            "Requirement already satisfied: graphviz in /usr/local/lib/python3.7/dist-packages (from catboost) (0.10.1)\n",
            "Requirement already satisfied: scipy in /usr/local/lib/python3.7/dist-packages (from catboost) (1.4.1)\n",
            "Requirement already satisfied: matplotlib in /usr/local/lib/python3.7/dist-packages (from catboost) (3.2.2)\n",
            "Requirement already satisfied: numpy>=1.16.0 in /usr/local/lib/python3.7/dist-packages (from catboost) (1.21.5)\n",
            "Requirement already satisfied: pandas>=0.24.0 in /usr/local/lib/python3.7/dist-packages (from catboost) (1.3.5)\n",
            "Requirement already satisfied: plotly in /usr/local/lib/python3.7/dist-packages (from catboost) (5.5.0)\n",
            "Requirement already satisfied: python-dateutil>=2.7.3 in /usr/local/lib/python3.7/dist-packages (from pandas>=0.24.0->catboost) (2.8.2)\n",
            "Requirement already satisfied: pytz>=2017.3 in /usr/local/lib/python3.7/dist-packages (from pandas>=0.24.0->catboost) (2018.9)\n",
            "Requirement already satisfied: kiwisolver>=1.0.1 in /usr/local/lib/python3.7/dist-packages (from matplotlib->catboost) (1.3.2)\n",
            "Requirement already satisfied: cycler>=0.10 in /usr/local/lib/python3.7/dist-packages (from matplotlib->catboost) (0.11.0)\n",
            "Requirement already satisfied: pyparsing!=2.0.4,!=2.1.2,!=2.1.6,>=2.0.1 in /usr/local/lib/python3.7/dist-packages (from matplotlib->catboost) (3.0.7)\n",
            "Requirement already satisfied: tenacity>=6.2.0 in /usr/local/lib/python3.7/dist-packages (from plotly->catboost) (8.0.1)\n",
            "Installing collected packages: catboost\n",
            "Successfully installed catboost-1.0.4\n"
          ]
        }
      ]
    },
    {
      "cell_type": "markdown",
      "metadata": {
        "id": "bMjC2lvc-RIs"
      },
      "source": [
        "Just like with data transforms we can test our function locally to ensure it works on the data frame as expected and that it is building a reasonable model. Notice that the model object we return is tuple comprising\n",
        "- columns used as inputs to the sub models\n",
        "- the quantile transform\n",
        "- linear model\n",
        "- catboost model\n",
        "\n",
        "Since this tuple can be pickled we do not need to bother writing anything to local disk. Also we will be able to use the default identity initialization function which will just return this tuple unmodified at prediction time."
      ]
    },
    {
      "cell_type": "code",
      "metadata": {
        "id": "38W5NRR0cBd8",
        "colab": {
          "base_uri": "https://localhost:8080/"
        },
        "outputId": "23006959-1ef7-4afe-f1d7-00db2fcb0418"
      },
      "source": [
        "def train(training_dataset):\n",
        "  # set the seed for reproduceable results\n",
        "  import numpy as np\n",
        "  import logging\n",
        "  np.random.seed(5)\n",
        "\n",
        "  X = training_dataset.drop(['csMPa'], axis=1)\n",
        "  y = training_dataset.csMPa\n",
        "  recent = training_dataset.age < 10\n",
        "  from sklearn.preprocessing import QuantileTransformer\n",
        "  from sklearn.linear_model import LinearRegression\n",
        "  qt = QuantileTransformer(n_quantiles=20)\n",
        "  recent_model = LinearRegression()\n",
        "  _ = recent_model.fit(qt.fit_transform(X[recent]), y[recent])\n",
        "  logging.info(f'Linear model R^2 = {recent_model.score(qt.transform(X[recent]), y[recent])}')\n",
        "\n",
        "  from catboost import Pool, CatBoostRegressor\n",
        "  train_pool = Pool(X[~recent], y[~recent])\n",
        "  older_model = CatBoostRegressor(iterations=20, depth=2, loss_function='RMSE')\n",
        "  _ = older_model.fit(train_pool)\n",
        "  metrics = older_model.eval_metrics(train_pool, ['RMSE'])\n",
        "  old_r2 = 1 - metrics['RMSE'][-1]**2 / y[~recent].var()\n",
        "  logging.info(f'Catboost model R^2 = {old_r2}')\n",
        "\n",
        "  return (X.columns, qt, recent_model, older_model)\n",
        "\n",
        "local_model = train(concrete_by_flyash_df)"
      ],
      "execution_count": 11,
      "outputs": [
        {
          "output_type": "stream",
          "name": "stdout",
          "text": [
            "Learning rate set to 0.5\n",
            "0:\tlearn: 12.7627412\ttotal: 46.8ms\tremaining: 890ms\n",
            "1:\tlearn: 11.5585084\ttotal: 47.4ms\tremaining: 426ms\n",
            "2:\tlearn: 10.3223491\ttotal: 47.8ms\tremaining: 271ms\n",
            "3:\tlearn: 9.3247540\ttotal: 48.5ms\tremaining: 194ms\n",
            "4:\tlearn: 8.5430952\ttotal: 49.1ms\tremaining: 147ms\n",
            "5:\tlearn: 8.0969450\ttotal: 49.6ms\tremaining: 116ms\n",
            "6:\tlearn: 7.7701204\ttotal: 50.2ms\tremaining: 93.2ms\n",
            "7:\tlearn: 7.4330845\ttotal: 50.8ms\tremaining: 76.1ms\n",
            "8:\tlearn: 7.1440607\ttotal: 51.4ms\tremaining: 62.8ms\n",
            "9:\tlearn: 6.9879983\ttotal: 52ms\tremaining: 52ms\n",
            "10:\tlearn: 6.8566891\ttotal: 52.6ms\tremaining: 43.1ms\n",
            "11:\tlearn: 6.7297646\ttotal: 53.2ms\tremaining: 35.4ms\n",
            "12:\tlearn: 6.6135734\ttotal: 54ms\tremaining: 29.1ms\n",
            "13:\tlearn: 6.4855813\ttotal: 54.6ms\tremaining: 23.4ms\n",
            "14:\tlearn: 6.3975280\ttotal: 55.2ms\tremaining: 18.4ms\n",
            "15:\tlearn: 6.2595309\ttotal: 55.8ms\tremaining: 14ms\n",
            "16:\tlearn: 6.1893574\ttotal: 56.4ms\tremaining: 9.96ms\n",
            "17:\tlearn: 6.1383127\ttotal: 57.1ms\tremaining: 6.34ms\n",
            "18:\tlearn: 6.0691477\ttotal: 57.7ms\tremaining: 3.04ms\n",
            "19:\tlearn: 6.0274770\ttotal: 58.3ms\tremaining: 0us\n"
          ]
        }
      ]
    },
    {
      "cell_type": "markdown",
      "metadata": {
        "id": "woQK4LYrdEI8"
      },
      "source": [
        "### Prediction Function\n",
        "\n",
        "To actually use this model for predictions we need to tell the service how to evaluate a new input against the returned model object. This function could be as simple as calling `predict()` on a scikit model compliant model. However, it will usually be the case that there will be some translation of the request data into model inputs prior to the final invocation. This is to match any feature engineering / transformation done inside the training function. Keep in mind any feature transformation done in feature group transformations will be handled automatically by the service for batch predictions.\n",
        "\n",
        "In the example we are building there is even more complexity because the model is a composite model built on two partitions of the data so the prediction function needs to dispatch the input to the right model based on one of the input features.\n",
        "\n",
        "We can follow the same pattern of testing locally to ensure that the prediction function works as expected. If the model requires an initialization function that loads data from disk it would also be good to test that locally."
      ]
    },
    {
      "cell_type": "code",
      "metadata": {
        "id": "MQ4tWAjFdRj6",
        "colab": {
          "base_uri": "https://localhost:8080/"
        },
        "outputId": "e14c8231-feb3-4dcf-9876-324598be6946"
      },
      "source": [
        "def predict(model, query):\n",
        "  # abacusai.get_client().get_feature_group().lookup(...)\n",
        "  columns, qt, recent_model, older_model = model\n",
        "  import pandas as pd\n",
        "  X = pd.DataFrame({c: [query[c]] for c in columns})\n",
        "  if X.age[0] < 10:\n",
        "    y = recent_model.predict(qt.transform(X))[0]\n",
        "  else:\n",
        "    y = older_model.predict(X.values.reshape(-1))\n",
        "  return {'csMPa': y}\n",
        "\n",
        "for _, r in concrete_by_flyash_df[concrete_by_flyash_df.age < 10][:5].iterrows():\n",
        "  print(predict(local_model, r.to_dict()), r['csMPa'])\n",
        "\n",
        "for _, r in concrete_by_flyash_df[concrete_by_flyash_df.age > 10][:5].iterrows():\n",
        "  print(predict(local_model, r.to_dict()), r['csMPa'])"
      ],
      "execution_count": 12,
      "outputs": [
        {
          "output_type": "stream",
          "name": "stdout",
          "text": [
            "{'csMPa': -31.754124749801928} -28.711784452296826\n",
            "{'csMPa': -5.324797742032466} 1.8282155477031736\n",
            "{'csMPa': -4.377726654712582} -1.6917844522968295\n",
            "{'csMPa': -23.147157848108044} -21.721784452296827\n",
            "{'csMPa': -16.71201923334116} -10.511784452296826\n",
            "{'csMPa': 28.83326303740123} 43.21821554770317\n",
            "{'csMPa': 28.83326303740123} 25.118215547703173\n",
            "{'csMPa': 9.069791024635736} 3.4982155477031753\n",
            "{'csMPa': 9.069791024635736} 4.278215547703169\n",
            "{'csMPa': -0.352310531807305} 7.528215547703169\n"
          ]
        }
      ]
    },
    {
      "cell_type": "markdown",
      "metadata": {
        "id": "xoDQfssCeTF8"
      },
      "source": [
        "### Register the Model\n",
        "We now put together the feature group, the training function and the prediction function as a new Abacus model. Like with custom feature groups the model has to specify the feature groups required for training which will be passed as arguments to the train function."
      ]
    },
    {
      "cell_type": "code",
      "metadata": {
        "id": "a8_QX3WheaSO"
      },
      "source": [
        "model = client.create_model_from_functions(project_id=project, \n",
        "                                   train_function=train, \n",
        "                                   predict_function=predict, \n",
        "                                   training_input_tables=['concrete_by_flyash'])"
      ],
      "execution_count": 13,
      "outputs": []
    },
    {
      "cell_type": "markdown",
      "metadata": {
        "id": "lv49KPlg0sWR"
      },
      "source": [
        "Wait for the model to finish training and then deploy the model to use for prediction."
      ]
    },
    {
      "cell_type": "code",
      "metadata": {
        "id": "y_y39zZOfaky",
        "colab": {
          "base_uri": "https://localhost:8080/",
          "height": 814
        },
        "outputId": "1a754aee-4433-4d49-8b22-2a17e49d323e"
      },
      "source": [
        "model.wait_for_training()\n",
        "print(model.latest_model_version.get_training_logs(stdout=True, stderr=True)[0])\n",
        "deployment_token = client.create_deployment_token(project).deployment_token\n",
        "deployment = client.create_deployment(model_id=model)\n",
        "deployment.wait_for_deployment()"
      ],
      "execution_count": 15,
      "outputs": [
        {
          "output_type": "stream",
          "name": "stdout",
          "text": [
            "FunctionLogs(function='train',\n",
            "  stats={'start': '2022-02-25T17:53:44.898232', 'end': '2022-02-25T17:54:00.083598'},\n",
            "  stdout=\u001b[92m'''\n",
            "      Learning rate set to 0.5\n",
            "      0:\tlearn: 12.7627412\ttotal: 95.2ms\tremaining: 1.81s\n",
            "      1:\tlearn: 11.5585084\ttotal: 95.6ms\tremaining: 860ms\n",
            "      2:\tlearn: 10.3223491\ttotal: 95.9ms\tremaining: 543ms\n",
            "      3:\tlearn: 9.3247540\ttotal: 96.2ms\tremaining: 385ms\n",
            "      4:\tlearn: 8.5430952\ttotal: 96.5ms\tremaining: 289ms\n",
            "      5:\tlearn: 8.0969450\ttotal: 96.8ms\tremaining: 226ms\n",
            "      6:\tlearn: 7.7701204\ttotal: 97.1ms\tremaining: 180ms\n",
            "      7:\tlearn: 7.4330845\ttotal: 97.4ms\tremaining: 146ms\n",
            "      8:\tlearn: 7.1440607\ttotal: 97.8ms\tremaining: 119ms\n",
            "      9:\tlearn: 6.9879983\ttotal: 98.1ms\tremaining: 98.1ms\n",
            "      10:\tlearn: 6.8566891\ttotal: 98.4ms\tremaining: 80.5ms\n",
            "      11:\tlearn: 6.7297646\ttotal: 98.7ms\tremaining: 65.8ms\n",
            "      12:\tlearn: 6.6135734\ttotal: 99ms\tremaining: 53.3ms\n",
            "      13:\tlearn: 6.4855813\ttotal: 99.3ms\tremaining: 42.6ms\n",
            "      14:\tlearn: 6.3975280\ttotal: 99.6ms\tremaining: 33.2ms\n",
            "      15:\tlearn: 6.2595309\ttotal: 99.9ms\tremaining: 25ms\n",
            "      16:\tlearn: 6.1893574\ttotal: 100ms\tremaining: 17.7ms\n",
            "      17:\tlearn: 6.1383127\ttotal: 101ms\tremaining: 11.2ms\n",
            "      18:\tlearn: 6.0691477\ttotal: 101ms\tremaining: 5.31ms\n",
            "      19:\tlearn: 6.0274770\ttotal: 101ms\tremaining: 0us\n",
            "'''\u001b[0;0m,\n",
            "  stderr=\u001b[91m\u001b[0;0m,\n",
            "  exception=None)\n"
          ]
        },
        {
          "output_type": "error",
          "ename": "TimeoutError",
          "evalue": "ignored",
          "traceback": [
            "\u001b[0;31m---------------------------------------------------------------------------\u001b[0m",
            "\u001b[0;31mTimeoutError\u001b[0m                              Traceback (most recent call last)",
            "\u001b[0;32m<ipython-input-15-a203d92018a0>\u001b[0m in \u001b[0;36m<module>\u001b[0;34m()\u001b[0m\n\u001b[1;32m      3\u001b[0m \u001b[0mdeployment_token\u001b[0m \u001b[0;34m=\u001b[0m \u001b[0mclient\u001b[0m\u001b[0;34m.\u001b[0m\u001b[0mcreate_deployment_token\u001b[0m\u001b[0;34m(\u001b[0m\u001b[0mproject\u001b[0m\u001b[0;34m)\u001b[0m\u001b[0;34m.\u001b[0m\u001b[0mdeployment_token\u001b[0m\u001b[0;34m\u001b[0m\u001b[0;34m\u001b[0m\u001b[0m\n\u001b[1;32m      4\u001b[0m \u001b[0mdeployment\u001b[0m \u001b[0;34m=\u001b[0m \u001b[0mclient\u001b[0m\u001b[0;34m.\u001b[0m\u001b[0mcreate_deployment\u001b[0m\u001b[0;34m(\u001b[0m\u001b[0mmodel_id\u001b[0m\u001b[0;34m=\u001b[0m\u001b[0mmodel\u001b[0m\u001b[0;34m)\u001b[0m\u001b[0;34m\u001b[0m\u001b[0;34m\u001b[0m\u001b[0m\n\u001b[0;32m----> 5\u001b[0;31m \u001b[0mdeployment\u001b[0m\u001b[0;34m.\u001b[0m\u001b[0mwait_for_deployment\u001b[0m\u001b[0;34m(\u001b[0m\u001b[0;34m)\u001b[0m\u001b[0;34m\u001b[0m\u001b[0;34m\u001b[0m\u001b[0m\n\u001b[0m",
            "\u001b[0;32m/usr/local/lib/python3.7/dist-packages/abacusai/deployment.py\u001b[0m in \u001b[0;36mwait_for_deployment\u001b[0;34m(self, wait_states, timeout)\u001b[0m\n\u001b[1;32m    225\u001b[0m             \u001b[0mtimeout\u001b[0m \u001b[0;34m(\u001b[0m\u001b[0mint\u001b[0m\u001b[0;34m,\u001b[0m \u001b[0moptional\u001b[0m\u001b[0;34m)\u001b[0m\u001b[0;34m:\u001b[0m \u001b[0mThe\u001b[0m \u001b[0mwaiting\u001b[0m \u001b[0mtime\u001b[0m \u001b[0mgiven\u001b[0m \u001b[0mto\u001b[0m \u001b[0mthe\u001b[0m \u001b[0mcall\u001b[0m \u001b[0mto\u001b[0m \u001b[0mfinish\u001b[0m\u001b[0;34m,\u001b[0m \u001b[0;32mif\u001b[0m \u001b[0mit\u001b[0m \u001b[0mdoesn\u001b[0m\u001b[0;31m'\u001b[0m\u001b[0mt\u001b[0m \u001b[0mfinish\u001b[0m \u001b[0mby\u001b[0m \u001b[0mthe\u001b[0m \u001b[0mallocated\u001b[0m \u001b[0mtime\u001b[0m\u001b[0;34m,\u001b[0m \u001b[0mthe\u001b[0m \u001b[0mcall\u001b[0m \u001b[0;32mis\u001b[0m \u001b[0msaid\u001b[0m \u001b[0mto\u001b[0m \u001b[0mbe\u001b[0m \u001b[0mtimed\u001b[0m \u001b[0mout\u001b[0m\u001b[0;34m.\u001b[0m \u001b[0mDefault\u001b[0m \u001b[0mvalue\u001b[0m \u001b[0mgiven\u001b[0m \u001b[0;32mis\u001b[0m \u001b[0;36m480\u001b[0m \u001b[0mmilliseconds\u001b[0m\u001b[0;34m.\u001b[0m\u001b[0;34m\u001b[0m\u001b[0;34m\u001b[0m\u001b[0m\n\u001b[1;32m    226\u001b[0m         \"\"\"\n\u001b[0;32m--> 227\u001b[0;31m         \u001b[0;32mreturn\u001b[0m \u001b[0mself\u001b[0m\u001b[0;34m.\u001b[0m\u001b[0mclient\u001b[0m\u001b[0;34m.\u001b[0m\u001b[0m_poll\u001b[0m\u001b[0;34m(\u001b[0m\u001b[0mself\u001b[0m\u001b[0;34m,\u001b[0m \u001b[0mwait_states\u001b[0m\u001b[0;34m,\u001b[0m \u001b[0mtimeout\u001b[0m\u001b[0;34m=\u001b[0m\u001b[0mtimeout\u001b[0m\u001b[0;34m)\u001b[0m\u001b[0;34m\u001b[0m\u001b[0;34m\u001b[0m\u001b[0m\n\u001b[0m\u001b[1;32m    228\u001b[0m \u001b[0;34m\u001b[0m\u001b[0m\n\u001b[1;32m    229\u001b[0m     \u001b[0;32mdef\u001b[0m \u001b[0mget_status\u001b[0m\u001b[0;34m(\u001b[0m\u001b[0mself\u001b[0m\u001b[0;34m)\u001b[0m\u001b[0;34m:\u001b[0m\u001b[0;34m\u001b[0m\u001b[0;34m\u001b[0m\u001b[0m\n",
            "\u001b[0;32m/usr/local/lib/python3.7/dist-packages/abacusai/client.py\u001b[0m in \u001b[0;36m_poll\u001b[0;34m(self, obj, wait_states, delay, timeout, poll_args)\u001b[0m\n\u001b[1;32m    247\u001b[0m         \u001b[0;32mwhile\u001b[0m \u001b[0mobj\u001b[0m\u001b[0;34m.\u001b[0m\u001b[0mget_status\u001b[0m\u001b[0;34m(\u001b[0m\u001b[0;34m**\u001b[0m\u001b[0mpoll_args\u001b[0m\u001b[0;34m)\u001b[0m \u001b[0;32min\u001b[0m \u001b[0mwait_states\u001b[0m\u001b[0;34m:\u001b[0m\u001b[0;34m\u001b[0m\u001b[0;34m\u001b[0m\u001b[0m\n\u001b[1;32m    248\u001b[0m             \u001b[0;32mif\u001b[0m \u001b[0mtimeout\u001b[0m \u001b[0;32mand\u001b[0m \u001b[0mtime\u001b[0m\u001b[0;34m.\u001b[0m\u001b[0mtime\u001b[0m\u001b[0;34m(\u001b[0m\u001b[0;34m)\u001b[0m \u001b[0;34m-\u001b[0m \u001b[0mstart_time\u001b[0m \u001b[0;34m>\u001b[0m \u001b[0mtimeout\u001b[0m\u001b[0;34m:\u001b[0m\u001b[0;34m\u001b[0m\u001b[0;34m\u001b[0m\u001b[0m\n\u001b[0;32m--> 249\u001b[0;31m                 \u001b[0;32mraise\u001b[0m \u001b[0mTimeoutError\u001b[0m\u001b[0;34m(\u001b[0m\u001b[0;34mf'Maximum wait time of {timeout}s exceeded'\u001b[0m\u001b[0;34m)\u001b[0m\u001b[0;34m\u001b[0m\u001b[0;34m\u001b[0m\u001b[0m\n\u001b[0m\u001b[1;32m    250\u001b[0m             \u001b[0mtime\u001b[0m\u001b[0;34m.\u001b[0m\u001b[0msleep\u001b[0m\u001b[0;34m(\u001b[0m\u001b[0mdelay\u001b[0m\u001b[0;34m)\u001b[0m\u001b[0;34m\u001b[0m\u001b[0;34m\u001b[0m\u001b[0m\n\u001b[1;32m    251\u001b[0m         \u001b[0;32mreturn\u001b[0m \u001b[0mobj\u001b[0m\u001b[0;34m.\u001b[0m\u001b[0mrefresh\u001b[0m\u001b[0;34m(\u001b[0m\u001b[0;34m)\u001b[0m\u001b[0;34m\u001b[0m\u001b[0;34m\u001b[0m\u001b[0m\n",
            "\u001b[0;31mTimeoutError\u001b[0m: Maximum wait time of 480s exceeded"
          ]
        }
      ]
    },
    {
      "cell_type": "markdown",
      "metadata": {
        "id": "HbqwEs9l1DRp"
      },
      "source": [
        "Now we can run predictions on Abacus and compare against predictions from the local model."
      ]
    },
    {
      "cell_type": "code",
      "source": [
        "deployment.wait_for_deployment()"
      ],
      "metadata": {
        "colab": {
          "base_uri": "https://localhost:8080/"
        },
        "id": "f_YOtlQ5FrEE",
        "outputId": "171d2f69-46cc-4564-cb97-ff164c25bfc1"
      },
      "execution_count": 16,
      "outputs": [
        {
          "output_type": "execute_result",
          "data": {
            "text/plain": [
              "Deployment(deployment_id='10bead619a',\n",
              "  name='Demo Python Model Model Deployment 1',\n",
              "  status='ACTIVE',\n",
              "  description='',\n",
              "  deployed_at='2022-02-25T18:15:08+00:00',\n",
              "  created_at='2022-02-25T18:05:04+00:00',\n",
              "  project_id='1537e0d962',\n",
              "  model_id='1295eefb68',\n",
              "  model_version='bcdf4eca4',\n",
              "  feature_group_id=None,\n",
              "  feature_group_version=None,\n",
              "  calls_per_second=5,\n",
              "  auto_deploy=True,\n",
              "  regions=[{'name': 'Us East 1', 'value': 'us-east-1'}],\n",
              "  error=None,\n",
              "  refresh_schedules=None,\n",
              "  feature_group_export_config=None)"
            ]
          },
          "metadata": {},
          "execution_count": 16
        }
      ]
    },
    {
      "cell_type": "code",
      "metadata": {
        "id": "Sfr0OUi1hzpk",
        "colab": {
          "base_uri": "https://localhost:8080/"
        },
        "outputId": "ec5bac7b-286d-4bfc-9233-3be5d20b7f86"
      },
      "source": [
        "# locally trained\n",
        "for _, r in concrete_by_flyash_df[concrete_by_flyash_df.age < 10][:5].iterrows():\n",
        "  print(predict(local_model, r.to_dict()), r['csMPa'])\n",
        "\n",
        "print(' Is equal to ')\n",
        "\n",
        "# remotely trained\n",
        "for _, r in concrete_by_flyash_df[concrete_by_flyash_df.age < 10][:5].iterrows():\n",
        "  print(client.predict(deployment_token, deployment.deployment_id, r.to_dict()), r['csMPa'])"
      ],
      "execution_count": 17,
      "outputs": [
        {
          "output_type": "stream",
          "name": "stdout",
          "text": [
            "{'csMPa': -31.754124749801928} -28.711784452296826\n",
            "{'csMPa': -5.324797742032466} 1.8282155477031736\n",
            "{'csMPa': -4.377726654712582} -1.6917844522968295\n",
            "{'csMPa': -23.147157848108044} -21.721784452296827\n",
            "{'csMPa': -16.71201923334116} -10.511784452296826\n",
            " Is equal to \n",
            "{'csMPa': -31.75412474980192} -28.711784452296826\n",
            "{'csMPa': -5.324797742032455} 1.8282155477031736\n",
            "{'csMPa': -4.377726654712578} -1.6917844522968295\n",
            "{'csMPa': -23.147157848108026} -21.721784452296827\n",
            "{'csMPa': -16.712019233341156} -10.511784452296826\n"
          ]
        }
      ]
    },
    {
      "cell_type": "markdown",
      "metadata": {
        "id": "9v3xHkP81OJi"
      },
      "source": [
        "### Setup Batch Predictions\n",
        "\n",
        "We can setup a new dataset to feed a batch prediction job. Abacus will run the prediction dataset through the feature transformation function and then apply the custom model to generate predictions for the uploaded data. Keep in mind the input to the model will be what is generated by transform. The inputs to the model are included in the batch prediction download along with model outputs."
      ]
    },
    {
      "cell_type": "code",
      "metadata": {
        "id": "uNGk-GNcKEZ0"
      },
      "source": [
        "try: \n",
        "  prediction_dataset = client.describe_dataset(client.describe_feature_group_by_table_name('concrete_strength_prediction_input').dataset_id)\n",
        "except ApiException: # dataset not found\n",
        "  prediction_dataset = client.create_dataset_from_file_connector(\n",
        "      name='Concrete Strength Prediction Input',\n",
        "      table_name='concrete_strength_prediction_input',\n",
        "      location='s3://abacusai.exampledatasets/predicting/concrete_measurements.csv')\n",
        "  prediction_dataset.wait_for_inspection()"
      ],
      "execution_count": 18,
      "outputs": []
    },
    {
      "cell_type": "markdown",
      "metadata": {
        "id": "oJ2aEtvCQ-Ug"
      },
      "source": [
        "Now we create a new batch prediction template and set its input to point to the prediction dataset we created. This will configure it to use the latest version of the dataset as the input for each run."
      ]
    },
    {
      "cell_type": "code",
      "metadata": {
        "id": "VwoQZgHcQ3Af",
        "colab": {
          "base_uri": "https://localhost:8080/"
        },
        "outputId": "774fd217-7484-4a8a-9dc4-cbe34c88298f"
      },
      "source": [
        "batch_prediction = client.create_batch_prediction(deployment.deployment_id, table_name='concrete_batch_prediction_output')\n",
        "batch_prediction.set_dataset_remap({\n",
        "    concrete_dataset.dataset_id: prediction_dataset.dataset_id\n",
        "})"
      ],
      "execution_count": 19,
      "outputs": [
        {
          "output_type": "execute_result",
          "data": {
            "text/plain": [
              "BatchPrediction(batch_prediction_id='e2633b678',\n",
              "  created_at='2022-02-25T18:38:52+00:00',\n",
              "  name='Demo Python Model Model Deployment 1 Batch',\n",
              "  deployment_id='10bead619a',\n",
              "  file_connector_output_location=None,\n",
              "  global_prediction_args=None,\n",
              "  database_connector_id=None,\n",
              "  database_output_configuration=None,\n",
              "  explanations=False,\n",
              "  file_output_format='csv',\n",
              "  connector_type='FEATURE_GROUP',\n",
              "  legacy_input_location=None,\n",
              "  feature_group_table_name='concrete_batch_prediction_output',\n",
              "  csv_input_prefix='',\n",
              "  csv_prediction_prefix='prediction_',\n",
              "  csv_explanations_prefix='explanation_',\n",
              "  batch_inputs=PredictionInput(feature_group_dataset_ids=['6ad977c38'],\n",
              "  dataset_id_remap={'6ad977c38': '9f919055c'},\n",
              "  feature_groups=[PredictionFeatureGroup(feature_group_id='1462189dec',\n",
              "  dataset_type='CUSTOM_TABLE',\n",
              "  default=True,\n",
              "  required=False)],\n",
              "  datasets=[]),\n",
              "  latest_batch_prediction_version=None,\n",
              "  refresh_schedules=None)"
            ]
          },
          "metadata": {},
          "execution_count": 19
        }
      ]
    },
    {
      "cell_type": "markdown",
      "metadata": {
        "id": "lYmtCk00RTmM"
      },
      "source": [
        "Finally, we initiate a run of the batch prediction template. This is the actual call that initiates the prediction job. It will handle any required transformation on the input dataaset to match what was done at training time and then apply the custom model deployed to each row of input produced by the custom data transform."
      ]
    },
    {
      "cell_type": "code",
      "metadata": {
        "id": "8tDUzgRuQ9A_",
        "colab": {
          "base_uri": "https://localhost:8080/",
          "height": 661
        },
        "outputId": "32c776b7-5a13-439a-8dc6-16fc5eac0c24"
      },
      "source": [
        "batch_prediction_run = batch_prediction.start()\n",
        "batch_prediction_run.wait_for_predictions()\n",
        "bp_output = batch_prediction.describe_output_feature_group()\n",
        "bp_output.wait_for_materialization().load_as_pandas()"
      ],
      "execution_count": 20,
      "outputs": [
        {
          "output_type": "execute_result",
          "data": {
            "text/html": [
              "\n",
              "  <div id=\"df-0674a3e4-8a04-4fbf-ae74-91383be046f0\">\n",
              "    <div class=\"colab-df-container\">\n",
              "      <div>\n",
              "<style scoped>\n",
              "    .dataframe tbody tr th:only-of-type {\n",
              "        vertical-align: middle;\n",
              "    }\n",
              "\n",
              "    .dataframe tbody tr th {\n",
              "        vertical-align: top;\n",
              "    }\n",
              "\n",
              "    .dataframe thead th {\n",
              "        text-align: right;\n",
              "    }\n",
              "</style>\n",
              "<table border=\"1\" class=\"dataframe\">\n",
              "  <thead>\n",
              "    <tr style=\"text-align: right;\">\n",
              "      <th></th>\n",
              "      <th>cement</th>\n",
              "      <th>slag</th>\n",
              "      <th>water</th>\n",
              "      <th>superplasticizer</th>\n",
              "      <th>coarseaggregate</th>\n",
              "      <th>fineaggregate</th>\n",
              "      <th>age</th>\n",
              "      <th>csMPa</th>\n",
              "      <th>prediction_result</th>\n",
              "    </tr>\n",
              "  </thead>\n",
              "  <tbody>\n",
              "    <tr>\n",
              "      <th>0</th>\n",
              "      <td>225.96219081272073</td>\n",
              "      <td>-100.11024734982333</td>\n",
              "      <td>-24.616784452296656</td>\n",
              "      <td>-1.5556537102473476</td>\n",
              "      <td>66.64257950529884</td>\n",
              "      <td>-88.85300353356786</td>\n",
              "      <td>28.0</td>\n",
              "      <td>43.21821554770317</td>\n",
              "      <td>{'csMPa': 28.83326303740123}</td>\n",
              "    </tr>\n",
              "    <tr>\n",
              "      <th>1</th>\n",
              "      <td>225.96219081272073</td>\n",
              "      <td>-100.11024734982333</td>\n",
              "      <td>-24.616784452296656</td>\n",
              "      <td>-1.5556537102473476</td>\n",
              "      <td>81.64257950529884</td>\n",
              "      <td>-88.85300353356786</td>\n",
              "      <td>28.0</td>\n",
              "      <td>25.118215547703173</td>\n",
              "      <td>{'csMPa': 28.83326303740123}</td>\n",
              "    </tr>\n",
              "    <tr>\n",
              "      <th>2</th>\n",
              "      <td>18.462190812720735</td>\n",
              "      <td>42.389752650176675</td>\n",
              "      <td>41.383215547703344</td>\n",
              "      <td>-4.0556537102473476</td>\n",
              "      <td>-41.35742049470116</td>\n",
              "      <td>-170.85300353356786</td>\n",
              "      <td>270.0</td>\n",
              "      <td>3.4982155477031753</td>\n",
              "      <td>{'csMPa': 9.069791024635736}</td>\n",
              "    </tr>\n",
              "    <tr>\n",
              "      <th>3</th>\n",
              "      <td>18.462190812720735</td>\n",
              "      <td>42.389752650176675</td>\n",
              "      <td>41.383215547703344</td>\n",
              "      <td>-4.0556537102473476</td>\n",
              "      <td>-41.35742049470116</td>\n",
              "      <td>-170.85300353356786</td>\n",
              "      <td>365.0</td>\n",
              "      <td>4.278215547703169</td>\n",
              "      <td>{'csMPa': 9.069791024635736}</td>\n",
              "    </tr>\n",
              "    <tr>\n",
              "      <th>4</th>\n",
              "      <td>-115.43780918727927</td>\n",
              "      <td>32.28975265017668</td>\n",
              "      <td>5.383215547703344</td>\n",
              "      <td>-4.0556537102473476</td>\n",
              "      <td>5.042579505298818</td>\n",
              "      <td>60.64699646643214</td>\n",
              "      <td>360.0</td>\n",
              "      <td>7.528215547703169</td>\n",
              "      <td>{'csMPa': -0.352310531807305}</td>\n",
              "    </tr>\n",
              "    <tr>\n",
              "      <th>...</th>\n",
              "      <td>...</td>\n",
              "      <td>...</td>\n",
              "      <td>...</td>\n",
              "      <td>...</td>\n",
              "      <td>...</td>\n",
              "      <td>...</td>\n",
              "      <td>...</td>\n",
              "      <td>...</td>\n",
              "      <td>...</td>\n",
              "    </tr>\n",
              "    <tr>\n",
              "      <th>1025</th>\n",
              "      <td>23.427801724137908</td>\n",
              "      <td>69.08125000000001</td>\n",
              "      <td>20.092241379310394</td>\n",
              "      <td>-2.9260775862068993</td>\n",
              "      <td>-139.78405172413727</td>\n",
              "      <td>6.173491379310008</td>\n",
              "      <td>28.0</td>\n",
              "      <td>6.885538793103457</td>\n",
              "      <td>{'csMPa': 7.950792561920522}</td>\n",
              "    </tr>\n",
              "    <tr>\n",
              "      <th>1026</th>\n",
              "      <td>35.327801724137885</td>\n",
              "      <td>74.08125000000001</td>\n",
              "      <td>4.1922413793103885</td>\n",
              "      <td>0.07392241379310072</td>\n",
              "      <td>-102.28405172413727</td>\n",
              "      <td>-15.926508620690015</td>\n",
              "      <td>28.0</td>\n",
              "      <td>9.625538793103459</td>\n",
              "      <td>{'csMPa': 7.135638582558334}</td>\n",
              "    </tr>\n",
              "    <tr>\n",
              "      <th>1027</th>\n",
              "      <td>81.1278017241379</td>\n",
              "      <td>-41.91874999999999</td>\n",
              "      <td>20.592241379310394</td>\n",
              "      <td>1.5739224137931007</td>\n",
              "      <td>-154.48405172413732</td>\n",
              "      <td>29.173491379310008</td>\n",
              "      <td>28.0</td>\n",
              "      <td>-3.4744612068965424</td>\n",
              "      <td>{'csMPa': 2.001998505187093}</td>\n",
              "    </tr>\n",
              "    <tr>\n",
              "      <th>1028</th>\n",
              "      <td>-92.57219827586209</td>\n",
              "      <td>97.48125000000002</td>\n",
              "      <td>17.292241379310383</td>\n",
              "      <td>-2.7260775862069</td>\n",
              "      <td>-79.98405172413732</td>\n",
              "      <td>-4.22650862068997</td>\n",
              "      <td>28.0</td>\n",
              "      <td>-10.954461206896543</td>\n",
              "      <td>{'csMPa': -5.08792331559537}</td>\n",
              "    </tr>\n",
              "    <tr>\n",
              "      <th>1029</th>\n",
              "      <td>19.827801724137885</td>\n",
              "      <td>58.58125000000001</td>\n",
              "      <td>25.19224137931039</td>\n",
              "      <td>-0.2260775862069</td>\n",
              "      <td>-107.8840517241373</td>\n",
              "      <td>-22.72650862068997</td>\n",
              "      <td>28.0</td>\n",
              "      <td>-2.2544612068965435</td>\n",
              "      <td>{'csMPa': 6.052480097739211}</td>\n",
              "    </tr>\n",
              "  </tbody>\n",
              "</table>\n",
              "<p>1030 rows × 9 columns</p>\n",
              "</div>\n",
              "      <button class=\"colab-df-convert\" onclick=\"convertToInteractive('df-0674a3e4-8a04-4fbf-ae74-91383be046f0')\"\n",
              "              title=\"Convert this dataframe to an interactive table.\"\n",
              "              style=\"display:none;\">\n",
              "        \n",
              "  <svg xmlns=\"http://www.w3.org/2000/svg\" height=\"24px\"viewBox=\"0 0 24 24\"\n",
              "       width=\"24px\">\n",
              "    <path d=\"M0 0h24v24H0V0z\" fill=\"none\"/>\n",
              "    <path d=\"M18.56 5.44l.94 2.06.94-2.06 2.06-.94-2.06-.94-.94-2.06-.94 2.06-2.06.94zm-11 1L8.5 8.5l.94-2.06 2.06-.94-2.06-.94L8.5 2.5l-.94 2.06-2.06.94zm10 10l.94 2.06.94-2.06 2.06-.94-2.06-.94-.94-2.06-.94 2.06-2.06.94z\"/><path d=\"M17.41 7.96l-1.37-1.37c-.4-.4-.92-.59-1.43-.59-.52 0-1.04.2-1.43.59L10.3 9.45l-7.72 7.72c-.78.78-.78 2.05 0 2.83L4 21.41c.39.39.9.59 1.41.59.51 0 1.02-.2 1.41-.59l7.78-7.78 2.81-2.81c.8-.78.8-2.07 0-2.86zM5.41 20L4 18.59l7.72-7.72 1.47 1.35L5.41 20z\"/>\n",
              "  </svg>\n",
              "      </button>\n",
              "      \n",
              "  <style>\n",
              "    .colab-df-container {\n",
              "      display:flex;\n",
              "      flex-wrap:wrap;\n",
              "      gap: 12px;\n",
              "    }\n",
              "\n",
              "    .colab-df-convert {\n",
              "      background-color: #E8F0FE;\n",
              "      border: none;\n",
              "      border-radius: 50%;\n",
              "      cursor: pointer;\n",
              "      display: none;\n",
              "      fill: #1967D2;\n",
              "      height: 32px;\n",
              "      padding: 0 0 0 0;\n",
              "      width: 32px;\n",
              "    }\n",
              "\n",
              "    .colab-df-convert:hover {\n",
              "      background-color: #E2EBFA;\n",
              "      box-shadow: 0px 1px 2px rgba(60, 64, 67, 0.3), 0px 1px 3px 1px rgba(60, 64, 67, 0.15);\n",
              "      fill: #174EA6;\n",
              "    }\n",
              "\n",
              "    [theme=dark] .colab-df-convert {\n",
              "      background-color: #3B4455;\n",
              "      fill: #D2E3FC;\n",
              "    }\n",
              "\n",
              "    [theme=dark] .colab-df-convert:hover {\n",
              "      background-color: #434B5C;\n",
              "      box-shadow: 0px 1px 3px 1px rgba(0, 0, 0, 0.15);\n",
              "      filter: drop-shadow(0px 1px 2px rgba(0, 0, 0, 0.3));\n",
              "      fill: #FFFFFF;\n",
              "    }\n",
              "  </style>\n",
              "\n",
              "      <script>\n",
              "        const buttonEl =\n",
              "          document.querySelector('#df-0674a3e4-8a04-4fbf-ae74-91383be046f0 button.colab-df-convert');\n",
              "        buttonEl.style.display =\n",
              "          google.colab.kernel.accessAllowed ? 'block' : 'none';\n",
              "\n",
              "        async function convertToInteractive(key) {\n",
              "          const element = document.querySelector('#df-0674a3e4-8a04-4fbf-ae74-91383be046f0');\n",
              "          const dataTable =\n",
              "            await google.colab.kernel.invokeFunction('convertToInteractive',\n",
              "                                                     [key], {});\n",
              "          if (!dataTable) return;\n",
              "\n",
              "          const docLinkHtml = 'Like what you see? Visit the ' +\n",
              "            '<a target=\"_blank\" href=https://colab.research.google.com/notebooks/data_table.ipynb>data table notebook</a>'\n",
              "            + ' to learn more about interactive tables.';\n",
              "          element.innerHTML = '';\n",
              "          dataTable['output_type'] = 'display_data';\n",
              "          await google.colab.output.renderOutput(dataTable, element);\n",
              "          const docLink = document.createElement('div');\n",
              "          docLink.innerHTML = docLinkHtml;\n",
              "          element.appendChild(docLink);\n",
              "        }\n",
              "      </script>\n",
              "    </div>\n",
              "  </div>\n",
              "  "
            ],
            "text/plain": [
              "                   cement  ...              prediction_result\n",
              "0      225.96219081272073  ...   {'csMPa': 28.83326303740123}\n",
              "1      225.96219081272073  ...   {'csMPa': 28.83326303740123}\n",
              "2      18.462190812720735  ...   {'csMPa': 9.069791024635736}\n",
              "3      18.462190812720735  ...   {'csMPa': 9.069791024635736}\n",
              "4     -115.43780918727927  ...  {'csMPa': -0.352310531807305}\n",
              "...                   ...  ...                            ...\n",
              "1025   23.427801724137908  ...   {'csMPa': 7.950792561920522}\n",
              "1026   35.327801724137885  ...   {'csMPa': 7.135638582558334}\n",
              "1027     81.1278017241379  ...   {'csMPa': 2.001998505187093}\n",
              "1028   -92.57219827586209  ...   {'csMPa': -5.08792331559537}\n",
              "1029   19.827801724137885  ...   {'csMPa': 6.052480097739211}\n",
              "\n",
              "[1030 rows x 9 columns]"
            ]
          },
          "metadata": {},
          "execution_count": 20
        }
      ]
    },
    {
      "cell_type": "markdown",
      "metadata": {
        "id": "O1slz4UV12HX"
      },
      "source": [
        "### Attach Refresh Schedules\n",
        "\n",
        "As a final step we can attach refresh schedules to various objects to ensure that they are updated regularly without any manual intervention. This allows the custom model to run with the same level of automation as models generated internally by the service."
      ]
    },
    {
      "cell_type": "code",
      "metadata": {
        "id": "l7xGS8RJ2HdR",
        "colab": {
          "base_uri": "https://localhost:8080/"
        },
        "outputId": "82602668-d422-4226-ab5b-61ac081acc2d"
      },
      "source": [
        "concrete_dataset.create_refresh_policy('0 4 * * 1')\n",
        "prediction_dataset.create_refresh_policy('0 4 * * 1')\n",
        "model.create_refresh_policy('0 6 * * 1')\n",
        "batch_prediction.create_refresh_policy('0 8 * * 1')"
      ],
      "execution_count": 21,
      "outputs": [
        {
          "output_type": "execute_result",
          "data": {
            "text/plain": [
              "RefreshPolicy(refresh_policy_id='984908c50',\n",
              "  name='Demo Python Model Model Deployment 1 Batch',\n",
              "  cron='0 8 * * 1',\n",
              "  next_run_time='2022-02-28T08:00:00+00:00',\n",
              "  created_at='2022-02-25T18:48:54+00:00',\n",
              "  refresh_type='BATCHPRED',\n",
              "  project_id='1537e0d962',\n",
              "  dataset_ids=None,\n",
              "  model_ids=None,\n",
              "  deployment_ids=None,\n",
              "  paused=False)"
            ]
          },
          "metadata": {},
          "execution_count": 21
        }
      ]
    }
  ]
}