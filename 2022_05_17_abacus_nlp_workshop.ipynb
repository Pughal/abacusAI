{
  "cells": [
    {
      "cell_type": "markdown",
      "metadata": {
        "id": "view-in-github",
        "colab_type": "text"
      },
      "source": [
        "<a href=\"https://colab.research.google.com/github/Pughal/abacusAI/blob/main/2022_05_17_abacus_nlp_workshop.ipynb\" target=\"_parent\"><img src=\"https://colab.research.google.com/assets/colab-badge.svg\" alt=\"Open In Colab\"/></a>"
      ]
    },
    {
      "cell_type": "code",
      "execution_count": 1,
      "id": "1ace4015",
      "metadata": {
        "id": "1ace4015",
        "outputId": "f1476b67-384a-46b4-a906-85dadcd0a924",
        "colab": {
          "base_uri": "https://localhost:8080/"
        }
      },
      "outputs": [
        {
          "output_type": "stream",
          "name": "stdout",
          "text": [
            "Collecting abacusai\n",
            "  Downloading abacusai-0.36.4.tar.gz (3.4 MB)\n",
            "\u001b[K     |████████████████████████████████| 3.4 MB 26.7 MB/s \n",
            "\u001b[?25hRequirement already satisfied: packaging in /usr/local/lib/python3.7/dist-packages (from abacusai) (21.3)\n",
            "Requirement already satisfied: requests in /usr/local/lib/python3.7/dist-packages (from abacusai) (2.23.0)\n",
            "Requirement already satisfied: pandas in /usr/local/lib/python3.7/dist-packages (from abacusai) (1.3.5)\n",
            "Collecting fastavro\n",
            "  Downloading fastavro-1.4.11-cp37-cp37m-manylinux_2_17_x86_64.manylinux2014_x86_64.whl (2.3 MB)\n",
            "\u001b[K     |████████████████████████████████| 2.3 MB 42.6 MB/s \n",
            "\u001b[?25hRequirement already satisfied: pyparsing!=3.0.5,>=2.0.2 in /usr/local/lib/python3.7/dist-packages (from packaging->abacusai) (3.0.9)\n",
            "Requirement already satisfied: python-dateutil>=2.7.3 in /usr/local/lib/python3.7/dist-packages (from pandas->abacusai) (2.8.2)\n",
            "Requirement already satisfied: pytz>=2017.3 in /usr/local/lib/python3.7/dist-packages (from pandas->abacusai) (2022.1)\n",
            "Requirement already satisfied: numpy>=1.17.3 in /usr/local/lib/python3.7/dist-packages (from pandas->abacusai) (1.21.6)\n",
            "Requirement already satisfied: six>=1.5 in /usr/local/lib/python3.7/dist-packages (from python-dateutil>=2.7.3->pandas->abacusai) (1.15.0)\n",
            "Requirement already satisfied: certifi>=2017.4.17 in /usr/local/lib/python3.7/dist-packages (from requests->abacusai) (2021.10.8)\n",
            "Requirement already satisfied: urllib3!=1.25.0,!=1.25.1,<1.26,>=1.21.1 in /usr/local/lib/python3.7/dist-packages (from requests->abacusai) (1.24.3)\n",
            "Requirement already satisfied: chardet<4,>=3.0.2 in /usr/local/lib/python3.7/dist-packages (from requests->abacusai) (3.0.4)\n",
            "Requirement already satisfied: idna<3,>=2.5 in /usr/local/lib/python3.7/dist-packages (from requests->abacusai) (2.10)\n",
            "Building wheels for collected packages: abacusai\n",
            "  Building wheel for abacusai (setup.py) ... \u001b[?25l\u001b[?25hdone\n",
            "  Created wheel for abacusai: filename=abacusai-0.36.4-py3-none-any.whl size=134875 sha256=d982b4de156bc2b3c6218fd7536bdd21f9373a788d86f9abdca618772415a54d\n",
            "  Stored in directory: /root/.cache/pip/wheels/f5/30/4e/1f7d42e339242d63030a7622906e7377dbaff762bcafa211be\n",
            "Successfully built abacusai\n",
            "Installing collected packages: fastavro, abacusai\n",
            "Successfully installed abacusai-0.36.4 fastavro-1.4.11\n"
          ]
        }
      ],
      "source": [
        "!pip install -U abacusai"
      ]
    },
    {
      "cell_type": "code",
      "execution_count": 2,
      "id": "a1d5feac",
      "metadata": {
        "id": "a1d5feac"
      },
      "outputs": [],
      "source": [
        "import collections\n",
        "import threading\n",
        "import time\n",
        "\n",
        "from tqdm import tqdm\n",
        "import numpy as np\n",
        "import IPython.display\n",
        "\n",
        "import abacusai"
      ]
    },
    {
      "cell_type": "markdown",
      "id": "13b5208a",
      "metadata": {
        "id": "13b5208a"
      },
      "source": [
        "# Set up API client and load data"
      ]
    },
    {
      "cell_type": "code",
      "execution_count": 3,
      "id": "458ea55a",
      "metadata": {
        "id": "458ea55a"
      },
      "outputs": [],
      "source": [
        "api_key = '5a0be27a037b44d4a48b27955caf610a'\n",
        "server = 'https://abacus.ai'"
      ]
    },
    {
      "cell_type": "code",
      "execution_count": 4,
      "id": "95995fa2",
      "metadata": {
        "id": "95995fa2",
        "outputId": "53138d9f-f85b-44a7-97a1-971687e2cd75",
        "colab": {
          "base_uri": "https://localhost:8080/"
        }
      },
      "outputs": [
        {
          "output_type": "execute_result",
          "data": {
            "text/plain": [
              "<abacusai.client.ApiClient at 0x7f56fac24b90>"
            ]
          },
          "metadata": {},
          "execution_count": 4
        }
      ],
      "source": [
        "api_client = abacusai.ApiClient(api_key=api_key, server=server)\n",
        "api_client"
      ]
    },
    {
      "cell_type": "code",
      "execution_count": 5,
      "id": "78b567e6",
      "metadata": {
        "id": "78b567e6",
        "outputId": "e4f97fc2-8e39-41b2-e637-ac9d35777350",
        "colab": {
          "base_uri": "https://localhost:8080/",
          "height": 206
        }
      },
      "outputs": [
        {
          "output_type": "execute_result",
          "data": {
            "text/plain": [
              "                                       vehicle_title  \\\n",
              "0  1997 Toyota Previa Minivan LE All-Trac 3dr Min...   \n",
              "1          1997 Toyota Previa Minivan LE 3dr Minivan   \n",
              "2  1997 Toyota Previa Minivan LE All-Trac 3dr Min...   \n",
              "3  1997 Toyota Previa Minivan LE All-Trac 3dr Min...   \n",
              "4  2007 Toyota Avalon Sedan XLS 4dr Sedan (3.5L 6...   \n",
              "\n",
              "                                        review_title  \\\n",
              "0                 my 4th previa, best van ever made!   \n",
              "1                             Mom's Taxi Babies Ride   \n",
              "2                                  Best Minivan ever   \n",
              "3               Final model year of the great Previa   \n",
              "4  I'll drive this car until they take it away fr...   \n",
              "\n",
              "                                              review  \n",
              "0   1st 95 went over 300k before being totalled b...  \n",
              "1   Sold 86 Toyota Van 285K miles to be replaced ...  \n",
              "2   My 1997 AWD Previa is the third one that I ha...  \n",
              "3   An amazing vehicle: mid-engine, supercharged,...  \n",
              "4   Bought this Avy in 2007 used with 1200 miles ...  "
            ],
            "text/html": [
              "\n",
              "  <div id=\"df-4b50f1a8-26a7-4dd7-93d9-13cef7ded878\">\n",
              "    <div class=\"colab-df-container\">\n",
              "      <div>\n",
              "<style scoped>\n",
              "    .dataframe tbody tr th:only-of-type {\n",
              "        vertical-align: middle;\n",
              "    }\n",
              "\n",
              "    .dataframe tbody tr th {\n",
              "        vertical-align: top;\n",
              "    }\n",
              "\n",
              "    .dataframe thead th {\n",
              "        text-align: right;\n",
              "    }\n",
              "</style>\n",
              "<table border=\"1\" class=\"dataframe\">\n",
              "  <thead>\n",
              "    <tr style=\"text-align: right;\">\n",
              "      <th></th>\n",
              "      <th>vehicle_title</th>\n",
              "      <th>review_title</th>\n",
              "      <th>review</th>\n",
              "    </tr>\n",
              "  </thead>\n",
              "  <tbody>\n",
              "    <tr>\n",
              "      <th>0</th>\n",
              "      <td>1997 Toyota Previa Minivan LE All-Trac 3dr Min...</td>\n",
              "      <td>my 4th previa, best van ever made!</td>\n",
              "      <td>1st 95 went over 300k before being totalled b...</td>\n",
              "    </tr>\n",
              "    <tr>\n",
              "      <th>1</th>\n",
              "      <td>1997 Toyota Previa Minivan LE 3dr Minivan</td>\n",
              "      <td>Mom's Taxi Babies Ride</td>\n",
              "      <td>Sold 86 Toyota Van 285K miles to be replaced ...</td>\n",
              "    </tr>\n",
              "    <tr>\n",
              "      <th>2</th>\n",
              "      <td>1997 Toyota Previa Minivan LE All-Trac 3dr Min...</td>\n",
              "      <td>Best Minivan ever</td>\n",
              "      <td>My 1997 AWD Previa is the third one that I ha...</td>\n",
              "    </tr>\n",
              "    <tr>\n",
              "      <th>3</th>\n",
              "      <td>1997 Toyota Previa Minivan LE All-Trac 3dr Min...</td>\n",
              "      <td>Final model year of the great Previa</td>\n",
              "      <td>An amazing vehicle: mid-engine, supercharged,...</td>\n",
              "    </tr>\n",
              "    <tr>\n",
              "      <th>4</th>\n",
              "      <td>2007 Toyota Avalon Sedan XLS 4dr Sedan (3.5L 6...</td>\n",
              "      <td>I'll drive this car until they take it away fr...</td>\n",
              "      <td>Bought this Avy in 2007 used with 1200 miles ...</td>\n",
              "    </tr>\n",
              "  </tbody>\n",
              "</table>\n",
              "</div>\n",
              "      <button class=\"colab-df-convert\" onclick=\"convertToInteractive('df-4b50f1a8-26a7-4dd7-93d9-13cef7ded878')\"\n",
              "              title=\"Convert this dataframe to an interactive table.\"\n",
              "              style=\"display:none;\">\n",
              "        \n",
              "  <svg xmlns=\"http://www.w3.org/2000/svg\" height=\"24px\"viewBox=\"0 0 24 24\"\n",
              "       width=\"24px\">\n",
              "    <path d=\"M0 0h24v24H0V0z\" fill=\"none\"/>\n",
              "    <path d=\"M18.56 5.44l.94 2.06.94-2.06 2.06-.94-2.06-.94-.94-2.06-.94 2.06-2.06.94zm-11 1L8.5 8.5l.94-2.06 2.06-.94-2.06-.94L8.5 2.5l-.94 2.06-2.06.94zm10 10l.94 2.06.94-2.06 2.06-.94-2.06-.94-.94-2.06-.94 2.06-2.06.94z\"/><path d=\"M17.41 7.96l-1.37-1.37c-.4-.4-.92-.59-1.43-.59-.52 0-1.04.2-1.43.59L10.3 9.45l-7.72 7.72c-.78.78-.78 2.05 0 2.83L4 21.41c.39.39.9.59 1.41.59.51 0 1.02-.2 1.41-.59l7.78-7.78 2.81-2.81c.8-.78.8-2.07 0-2.86zM5.41 20L4 18.59l7.72-7.72 1.47 1.35L5.41 20z\"/>\n",
              "  </svg>\n",
              "      </button>\n",
              "      \n",
              "  <style>\n",
              "    .colab-df-container {\n",
              "      display:flex;\n",
              "      flex-wrap:wrap;\n",
              "      gap: 12px;\n",
              "    }\n",
              "\n",
              "    .colab-df-convert {\n",
              "      background-color: #E8F0FE;\n",
              "      border: none;\n",
              "      border-radius: 50%;\n",
              "      cursor: pointer;\n",
              "      display: none;\n",
              "      fill: #1967D2;\n",
              "      height: 32px;\n",
              "      padding: 0 0 0 0;\n",
              "      width: 32px;\n",
              "    }\n",
              "\n",
              "    .colab-df-convert:hover {\n",
              "      background-color: #E2EBFA;\n",
              "      box-shadow: 0px 1px 2px rgba(60, 64, 67, 0.3), 0px 1px 3px 1px rgba(60, 64, 67, 0.15);\n",
              "      fill: #174EA6;\n",
              "    }\n",
              "\n",
              "    [theme=dark] .colab-df-convert {\n",
              "      background-color: #3B4455;\n",
              "      fill: #D2E3FC;\n",
              "    }\n",
              "\n",
              "    [theme=dark] .colab-df-convert:hover {\n",
              "      background-color: #434B5C;\n",
              "      box-shadow: 0px 1px 3px 1px rgba(0, 0, 0, 0.15);\n",
              "      filter: drop-shadow(0px 1px 2px rgba(0, 0, 0, 0.3));\n",
              "      fill: #FFFFFF;\n",
              "    }\n",
              "  </style>\n",
              "\n",
              "      <script>\n",
              "        const buttonEl =\n",
              "          document.querySelector('#df-4b50f1a8-26a7-4dd7-93d9-13cef7ded878 button.colab-df-convert');\n",
              "        buttonEl.style.display =\n",
              "          google.colab.kernel.accessAllowed ? 'block' : 'none';\n",
              "\n",
              "        async function convertToInteractive(key) {\n",
              "          const element = document.querySelector('#df-4b50f1a8-26a7-4dd7-93d9-13cef7ded878');\n",
              "          const dataTable =\n",
              "            await google.colab.kernel.invokeFunction('convertToInteractive',\n",
              "                                                     [key], {});\n",
              "          if (!dataTable) return;\n",
              "\n",
              "          const docLinkHtml = 'Like what you see? Visit the ' +\n",
              "            '<a target=\"_blank\" href=https://colab.research.google.com/notebooks/data_table.ipynb>data table notebook</a>'\n",
              "            + ' to learn more about interactive tables.';\n",
              "          element.innerHTML = '';\n",
              "          dataTable['output_type'] = 'display_data';\n",
              "          await google.colab.output.renderOutput(dataTable, element);\n",
              "          const docLink = document.createElement('div');\n",
              "          docLink.innerHTML = docLinkHtml;\n",
              "          element.appendChild(docLink);\n",
              "        }\n",
              "      </script>\n",
              "    </div>\n",
              "  </div>\n",
              "  "
            ]
          },
          "metadata": {},
          "execution_count": 5
        }
      ],
      "source": [
        "feature_group = api_client.describe_feature_group('157a604156')\n",
        "data = feature_group.load_as_pandas()\n",
        "data.head()"
      ]
    },
    {
      "cell_type": "markdown",
      "id": "0935f2f8",
      "metadata": {
        "id": "0935f2f8"
      },
      "source": [
        "# Get predictions from sentiment model"
      ]
    },
    {
      "cell_type": "code",
      "execution_count": 6,
      "id": "3ec2ade2",
      "metadata": {
        "id": "3ec2ade2",
        "outputId": "ca3231ae-9a25-400f-d412-f771ddc7569e",
        "colab": {
          "base_uri": "https://localhost:8080/"
        }
      },
      "outputs": [
        {
          "output_type": "execute_result",
          "data": {
            "text/plain": [
              "{'admiration': 0.9690180077255606,\n",
              " 'amusement': 0.0005301890345760272,\n",
              " 'anger': 0.0016253314971622214,\n",
              " 'annoyance': 0.0011743439541047592,\n",
              " 'approval': 0.004487547412796958,\n",
              " 'caring': 0.0012171291522968734,\n",
              " 'confusion': 0.0011294961925720985,\n",
              " 'curiosity': 0.001267323465442315,\n",
              " 'desire': 0.0008991092601830189,\n",
              " 'disappointment': 0.0032638779642406523,\n",
              " 'disapproval': 0.0021156772262536454,\n",
              " 'disgust': 0.0012950080206496602,\n",
              " 'embarrassment': 0.0006689142763694892,\n",
              " 'excitement': 0.03788215410790224,\n",
              " 'fear': 0.0007581760648702862,\n",
              " 'gratitude': 0.0036159755244024798,\n",
              " 'grief': 0.0005761000357215304,\n",
              " 'joy': 0.08453496013149986,\n",
              " 'love': 0.9401949428687183,\n",
              " 'nervousness': 0.000259790574874874,\n",
              " 'neutral': 0.0007246876202514376,\n",
              " 'optimism': 0.0008152980260788696,\n",
              " 'pride': 0.0067359708812902135,\n",
              " 'realization': 0.0034499985566470146,\n",
              " 'relief': 0.00040885769813487325,\n",
              " 'remorse': 0.0004576580473216018,\n",
              " 'sadness': 0.0022062610682375304,\n",
              " 'surprise': 0.0016527906169454367}"
            ]
          },
          "metadata": {},
          "execution_count": 6
        }
      ],
      "source": [
        "# Replace this code with code in predictions API screen\n",
        "\n",
        "from abacusai import PredictionClient\n",
        "client = PredictionClient()\n",
        "client.get_sentiment(deployment_token='350351f1fdfb498ab2503843eecbb9c2', deployment_id='18d58d430',\n",
        "                     document=\"I love my car, it's awesome!\")"
      ]
    },
    {
      "cell_type": "code",
      "execution_count": 7,
      "id": "fd4c041f",
      "metadata": {
        "id": "fd4c041f"
      },
      "outputs": [],
      "source": [
        "sent_deployment_token = '350351f1fdfb498ab2503843eecbb9c2'\n",
        "sent_deployment_id = '18d58d430'"
      ]
    },
    {
      "cell_type": "code",
      "execution_count": 8,
      "id": "a7746606",
      "metadata": {
        "id": "a7746606",
        "outputId": "a2bf08de-128a-4ae3-9478-675ccf9c696d",
        "colab": {
          "base_uri": "https://localhost:8080/"
        }
      },
      "outputs": [
        {
          "output_type": "stream",
          "name": "stderr",
          "text": [
            "100%|██████████| 100/100 [03:37<00:00,  2.17s/it]\n"
          ]
        }
      ],
      "source": [
        "tqdm._instances.clear()\n",
        "sample_texts = data['review'][:100]\n",
        "sentiments = [\n",
        "    client.get_sentiment(\n",
        "        deployment_token=sent_deployment_token,\n",
        "        deployment_id=sent_deployment_id,\n",
        "        document=text\n",
        "    )\n",
        "    for text in tqdm(sample_texts)\n",
        "]"
      ]
    },
    {
      "cell_type": "code",
      "execution_count": 9,
      "id": "b4aae3d8",
      "metadata": {
        "id": "b4aae3d8",
        "outputId": "bac77ecb-34ff-4c08-a9f9-a1e7a8a6797d",
        "colab": {
          "base_uri": "https://localhost:8080/"
        }
      },
      "outputs": [
        {
          "output_type": "stream",
          "name": "stdout",
          "text": [
            "Top scoring texts for: \"joy\"\n",
            "\n",
            "0.9765579227783318\n",
            " Sold 86 Toyota Van 285K miles to be replaced with 97 Previa with 1st baby coming in Jun. Perfect to carry 2nd kid in 99. Also carried Mom, Dad, Father-in-law to doctor's appt. Use mostly for reserve weekend duty. Did not change remote bat 6 yrs later. Did reg maint oil/filter chg every 3K. Used in business for 6 yrs as modified pick up truck by removing middle seat & folding 3rd row. Kids love this because they can lie down and sleep and watch tv. Our kids and parents in their 80s enjoyed trips to NY, VA, FL, LA, GA, TN, SC, NC, AL, TX, MA, CO. With this economy we are glad to have Toyotas in our family. Camry 02 replaced 88 Celica. Convinced five younger brothers to get Toyotas. They did.\n",
            "\n",
            "0.9703472903251203\n",
            " I've had the XL model since Aug. '07 and have about 6500K ultra-enjoyable miles on it. I've had two Beemers and an Infinity, also enjoyed them very much, but the Avalon is special in that it's smooth, quiet, fairly ecnomical on gas, considering its size. I use regular octane -- also Plus and Premium at times. I also have found the cloth/velour seats to be very practical -- warm on cold days, cool on hot ones. Transmission-wise, it just knows when to shift for you -- it's really a symbiotic relationship between car and driver, to use that analogy. The driver's seat needs more back support, though. So, I'll rate this car as a 9-1/2 -- ALMOST PERFECT -- but then again, nothing's perfect\n",
            "\n",
            "0.9524025529045689\n",
            " I traded my 2002 Avalon XL in on a 2007 XLS.  I wish I had the 2002 back. It was much quieter and had more stability.  The 2007 engine is noisy and often clatters like a diesel.  Dealership says that is normal??  I just hope that it does not finally fail while I am on a long trip 2000 miles from home.  I enjoy driving the car but would feel much more at ease if the engine were not so noisy and the transmission shifted smoother.  The rear vision from the car when backing is also very limited.  Knowing where the rear of the car is questionable.  I like the interior and the entertainment system.  Paint also chips very easy.  Dealer blamed it on the EPA.\n",
            "\n",
            "0.8204210805903909\n",
            " I bought this car after doing a lot of research and was initially quite happy with it.  Over the 15 months that I had it, it was in the shop twice for rattles, and twice to have the oxygen sensor issue fixed, for a total of about 7 or 8 days without the car, most was related to the sensors. It had another annoying rattle in the dash when I got rid of it.   These may have all started after I had XM added to the car, but that doesn't make the rattles go away.   I traded it in for a non-Toyota vehicle after 6500 miles. \n",
            "\n",
            "0.5697039777405213\n",
            " I bought the Avalon Touring XLE model in March 2013. Initially, I was a bit disappointed in the quality of the ride. I thought there was too much road feel.This October, I drove it to Ohio and Indiana from Florida. It performed amazingly andI am now smitten with this machine.I really enjoy driving it and on a smooth road, it is terrific.I am averaging nearly 30 mpg . My driving is all at 60mph where I live . No regrets on this purchase.Update 2016 : I love this car. I looked at the new models that came out this year and I think the 2013 looks better.Update 2018: This car still  impresses me. Most of my driving is at 60 mph. In a rural area with a 30 mile drive to a grocery, this is a pleasure to drive.  The appearance is great and I am still getting compliments from passengers about rear legroom, comfort etc. Currently at  34000 miles on odometer. Plan to keep this for a long time.\n",
            "\n"
          ]
        }
      ],
      "source": [
        "query = 'joy'\n",
        "print(f'Top scoring texts for: \"{query}\"\\n')\n",
        "scores = [s[query] for s in sentiments]\n",
        "arg_sort = np.argsort(-np.array(scores))\n",
        "for i in arg_sort[:5]:\n",
        "    print(scores[i])\n",
        "    print(sample_texts[i])\n",
        "    print('')"
      ]
    },
    {
      "cell_type": "code",
      "execution_count": 10,
      "id": "30a99586",
      "metadata": {
        "id": "30a99586",
        "outputId": "56455c9b-3159-4632-b339-f51fcf1f76a4",
        "colab": {
          "base_uri": "https://localhost:8080/"
        }
      },
      "outputs": [
        {
          "output_type": "stream",
          "name": "stdout",
          "text": [
            "Top scoring texts for: \"annoyance\"\n",
            "\n",
            "0.9876571410165871\n",
            " I bought my 2011 Avalon Limited new in Dec.2011. It is not the same quality of my two previous Avalons.Last one was 2002 with 176K miles and it ran smoother and quieter than the new one. Wind comes in window, I'm told it's normal due to mirrow (doesn't do it on passenger side). Rides rough, worse than my husbands F250 4x4 diesel. Lots and lots of road noise.Not a quiet car at all. Rear passenger window broke (fixed now), rear reclining seat broke (part ordered). Brakes feel mushy, Struts seem non-existent. Car really sat low when 2 adults and 2 teens with 4 bags packed (not heavy..trunk too small to pack much). Toyota dealer tells me everything is normal and up to Toyota specs. Bad Car!!\n",
            "\n",
            "0.9837900807035953\n",
            " Overall our ‘13 Avalon is a compromise  in meeting our expectations for comfort, quasi-sportiness, and initial quality.  Best features include the space for 6’-4” legs and the visibility afforded to urban driving conditions.  Mechanically, the vehicle is Toyota solid.  Power-plant and powertrain deliver almost exhilarating and  smooth performance.  What’s annoying is the mediocre workmanship within the cabin’s interior.  This car is highway driven >80% in Southern California’s vastly fair weather.  Road noise is distractingly noticeable.. Headliner at the top edge of rear window and sewing/anchoring of driver-front leather seat (lowest front edge) have detached themselves. Adhesives or sewing required.  The ride is a tad light - meaning not stout/solid and stable.   Strictly applying  money spent vesus a quality product in return, it would have been worth spending it elsewhere.\n",
            "\n",
            "0.8721080105447553\n",
            "  I have been a happy Toyota customer all my adult life (now 55 and had only one non-toyota).I am very frustrated with this car.I suppose if one has low expectations, then this is the car for you..I feel like a sucker for purchasing it..I feel like I have a 'super Corolla',... not at all the car I wanted to give my wife.We purchased this car for long rides, and I only see this being acceptable for around town.Toyota has taught me a lesson I will not forget.It seems to me that Toyota has left the upscale market, and is leaving that for Lexus' territory.Seriously, I'm not being too harsh.Check it out for yourself.\n",
            "\n",
            "0.3928457595691044\n",
            " Everything seems to be perfect with 2013 Avalon.But, unfortunately, the clock is awful, to say the least.It is not digital, and you can only read 3, 6, 9, and 12 o'clock, or 15, 30, and 45 minutes.In-between there are no marks.So, one literally has to stare at the clock for a minute to judge the positions of hour and minute handles in order to figure out the exact time.A clock inside a car should be functional not for decoration purpose, because when one is driving on the highway, he has only microseconds to read the clock without causing an accident.It is totally beyond me why Toyota \"design\" a clock that people can't read the time from. \n",
            "\n",
            "0.29044070500992925\n",
            " Really got sucked in by the new and beautiful exterior of the 2013 Avalon.Only to find it so very uncomfortable compared to my 2011.Did not sink in until after the purchase that this car is 2\" shorter than it's predecessor, with most of that coming off the rear passenger leg room,which is Critical TOYOTA!I often have my office associates with me, and they are big guys!Now they are cramped!Why would you make the flagship car.... SMALLER?If I wanted small, I would buy the Camry.And the front seat is narrower, and less comfortable.Front seat comfort of the Avalon has always been an issue; now it's much worse!(for the distance driver).\n",
            "\n"
          ]
        }
      ],
      "source": [
        "query = 'annoyance'\n",
        "print(f'Top scoring texts for: \"{query}\"\\n')\n",
        "scores = [s[query] for s in sentiments]\n",
        "arg_sort = np.argsort(-np.array(scores))\n",
        "for i in arg_sort[:5]:\n",
        "    print(scores[i])\n",
        "    print(sample_texts[i])\n",
        "    print('')"
      ]
    },
    {
      "cell_type": "code",
      "execution_count": 11,
      "id": "28ff9381",
      "metadata": {
        "id": "28ff9381",
        "outputId": "3be2436a-30be-48c7-efe6-c79a0d52880e",
        "colab": {
          "base_uri": "https://localhost:8080/"
        }
      },
      "outputs": [
        {
          "output_type": "stream",
          "name": "stdout",
          "text": [
            "Top scoring texts for: \"fear\"\n",
            "\n",
            "0.9927920479839639\n",
            " Would love 2009 Avalon except for one major problem.  At unexpected times after I brake the car begins to move forward.  This has happened to 3 different drivers.  I cannot stop this forward movement. It caused me to rear end another car at a band drive through.  Toyota dealers will not acknowledge problem since they cannot duplicate problem.  Car has 3000 miles on it and I am afraid to drive it. I have been told that I am the first person to report this in the U.S. I feel robbed. This is going to happen again.\n",
            "\n",
            "0.9297390076755588\n",
            " I paid $36,000 for my 2009 Avalon. I will not drive it. It has 3000 miles on it.  On 8 occasions the car has lurched forward after brakes were applied. One accident occurred costing me $500 deduct. I was in the bank line when the brakes failed. Car started moving forward.  Brakes would not stop the car.  Toyota dealers say they cannot find a problem. Both my husband and brother have experienced same problem driving this vehicle. Dealers say no other person has reported anything similar. The car is just too dangerous to drive.  I am lucky I have not been injured or have injured someone else.\n",
            "\n",
            "0.2952198232664005\n",
            " Bought the car new in March of 2016. I have bought 5 new and 4 used Toyotas in my life. This one has small problems Toyota won’t cover. There are 17 small tears in inch wide piece of defective leather Toyota wont replace under Warranty. I have spent well over$150,000 on Toyotas in my life and am afraid this will be the last. I have never had a problem with another manufacturer in my life. They should be embarrassed and ashamed. Said tears in leather is normal wear and tear on a $35,000.00 list  car with 16,000 miles on it. Good car but garbage company. Traded car in couldnt stand looking at ripped seat anymore. TSK TSK Toyota.\n",
            "\n",
            "0.05966929265384979\n",
            " Before buying this car I heard great things about Toyota vehicles from friends and family, so I decided hey I have to get one for myself.  What a joke, this car makes me sick!!! It has a very loud noise in the engine. I have taken it in too many times only to be told by the mechanic that he does not hear the noise. These guys must be deaf!!! The last mechanic told me that the noise is normal that the sound was in other cars he tested?! Transmission horrible to say the least not smooth at all. Sound system cannot be heard over noisy engine, brakes are terrible, problem with wipers, in all one of the worse vehicles I have ever owned. I can't wait to get rid of it!!!!!!\n",
            "\n",
            "0.025713307147268518\n",
            " Really got sucked in by the new and beautiful exterior of the 2013 Avalon.Only to find it so very uncomfortable compared to my 2011.Did not sink in until after the purchase that this car is 2\" shorter than it's predecessor, with most of that coming off the rear passenger leg room,which is Critical TOYOTA!I often have my office associates with me, and they are big guys!Now they are cramped!Why would you make the flagship car.... SMALLER?If I wanted small, I would buy the Camry.And the front seat is narrower, and less comfortable.Front seat comfort of the Avalon has always been an issue; now it's much worse!(for the distance driver).\n",
            "\n"
          ]
        }
      ],
      "source": [
        "query = 'fear'\n",
        "print(f'Top scoring texts for: \"{query}\"\\n')\n",
        "scores = [s[query] for s in sentiments]\n",
        "arg_sort = np.argsort(-np.array(scores))\n",
        "for i in arg_sort[:5]:\n",
        "    print(scores[i])\n",
        "    print(sample_texts[i])\n",
        "    print('')"
      ]
    },
    {
      "cell_type": "markdown",
      "id": "d76674c2",
      "metadata": {
        "id": "d76674c2"
      },
      "source": [
        "# Create a classification model"
      ]
    },
    {
      "cell_type": "code",
      "execution_count": 12,
      "id": "c79d4303",
      "metadata": {
        "id": "c79d4303",
        "outputId": "a64d0df3-1e4c-4476-a297-16489b948541",
        "colab": {
          "base_uri": "https://localhost:8080/"
        }
      },
      "outputs": [
        {
          "output_type": "stream",
          "name": "stdout",
          "text": [
            "Creating project\n",
            "Training model\n",
            "Deploying model\n",
            "Model deployed\n"
          ]
        }
      ],
      "source": [
        "print('Creating project')\n",
        "class_project = api_client.create_project('nlp_classification', use_case='NLP_CLASSIFICATION')\n",
        "\n",
        "api_client.add_feature_group_to_project(\n",
        "    feature_group_id=feature_group, project_id=class_project, feature_group_type='DOCUMENTS'\n",
        ")\n",
        "\n",
        "class_project.set_feature_mapping(\n",
        "    feature_group_id=feature_group,\n",
        "    feature_name='review',\n",
        "    feature_mapping='DOCUMENT',\n",
        ")\n",
        "\n",
        "print('Training model')\n",
        "class_model = class_project.train_model(\n",
        "    name='classification_model_1',\n",
        "    training_config={\n",
        "        'zero_shot_hypotheses': [\n",
        "            'This text is about car speed / acceleration / slowness',\n",
        "            'This text is about car price / cost / value for money',\n",
        "            'This text is about car build quality',\n",
        "            'This text is about car seats',\n",
        "        ]\n",
        "    }\n",
        ")\n",
        "\n",
        "class_model = class_model.wait_for_full_automl()\n",
        "print('Deploying model')\n",
        "class_deployment = api_client.create_deployment(model_id=class_model)\n",
        "class_deployment = class_deployment.wait_for_deployment()\n",
        "class_deployment_token = class_project.list_deployment_tokens()[0]\n",
        "class_deployment_id = class_deployment.deployment_id\n",
        "\n",
        "print('Model deployed')"
      ]
    },
    {
      "cell_type": "code",
      "source": [
        ""
      ],
      "metadata": {
        "id": "2-8bE73tCOH_"
      },
      "id": "2-8bE73tCOH_",
      "execution_count": null,
      "outputs": []
    },
    {
      "cell_type": "code",
      "execution_count": 13,
      "id": "69a3c102",
      "metadata": {
        "id": "69a3c102",
        "outputId": "e67747ae-0822-412b-f4ed-f20375e12765",
        "colab": {
          "base_uri": "https://localhost:8080/",
          "height": 252
        }
      },
      "outputs": [
        {
          "output_type": "stream",
          "name": "stdout",
          "text": [
            "Predictions produced so far: 9\n"
          ]
        },
        {
          "output_type": "error",
          "ename": "KeyboardInterrupt",
          "evalue": "ignored",
          "traceback": [
            "\u001b[0;31m---------------------------------------------------------------------------\u001b[0m",
            "\u001b[0;31mKeyboardInterrupt\u001b[0m                         Traceback (most recent call last)",
            "\u001b[0;32m<ipython-input-13-659b14ca9b68>\u001b[0m in \u001b[0;36m<module>\u001b[0;34m()\u001b[0m\n\u001b[1;32m     29\u001b[0m     \u001b[0mIPython\u001b[0m\u001b[0;34m.\u001b[0m\u001b[0mdisplay\u001b[0m\u001b[0;34m.\u001b[0m\u001b[0mclear_output\u001b[0m\u001b[0;34m(\u001b[0m\u001b[0mwait\u001b[0m\u001b[0;34m=\u001b[0m\u001b[0;32mTrue\u001b[0m\u001b[0;34m)\u001b[0m\u001b[0;34m\u001b[0m\u001b[0;34m\u001b[0m\u001b[0m\n\u001b[1;32m     30\u001b[0m     \u001b[0mprint\u001b[0m\u001b[0;34m(\u001b[0m\u001b[0;34mf'Predictions produced so far: {len(text_to_prediction)}'\u001b[0m\u001b[0;34m)\u001b[0m\u001b[0;34m\u001b[0m\u001b[0;34m\u001b[0m\u001b[0m\n\u001b[0;32m---> 31\u001b[0;31m     \u001b[0mtime\u001b[0m\u001b[0;34m.\u001b[0m\u001b[0msleep\u001b[0m\u001b[0;34m(\u001b[0m\u001b[0;36m1\u001b[0m\u001b[0;34m)\u001b[0m\u001b[0;34m\u001b[0m\u001b[0;34m\u001b[0m\u001b[0m\n\u001b[0m\u001b[1;32m     32\u001b[0m \u001b[0mprint\u001b[0m\u001b[0;34m(\u001b[0m\u001b[0;34m'Example prediction:'\u001b[0m\u001b[0;34m)\u001b[0m\u001b[0;34m\u001b[0m\u001b[0;34m\u001b[0m\u001b[0m\n\u001b[1;32m     33\u001b[0m \u001b[0mlist\u001b[0m\u001b[0;34m(\u001b[0m\u001b[0mtext_to_prediction\u001b[0m\u001b[0;34m.\u001b[0m\u001b[0mvalues\u001b[0m\u001b[0;34m(\u001b[0m\u001b[0;34m)\u001b[0m\u001b[0;34m)\u001b[0m\u001b[0;34m[\u001b[0m\u001b[0;36m0\u001b[0m\u001b[0;34m]\u001b[0m\u001b[0;34m\u001b[0m\u001b[0;34m\u001b[0m\u001b[0m\n",
            "\u001b[0;31mKeyboardInterrupt\u001b[0m: "
          ]
        }
      ],
      "source": [
        "print('Testing prediction')\n",
        "client.get_classification(\n",
        "    deployment_token=class_deployment_token,\n",
        "    deployment_id=class_deployment_id,\n",
        "    document=\"This car is a bargain.\"\n",
        ")\n",
        "\n",
        "sample_texts = data['review'][:100]\n",
        "text_classifications = []\n",
        "\n",
        "text_to_prediction = {}\n",
        "\n",
        "print('Producing predictions')\n",
        "\n",
        "# Produce predictions in the background so we can do some analysis straight away\n",
        "\n",
        "def process_data(texts):\n",
        "    for text in texts:\n",
        "        text_to_prediction[text] = client.get_classification(\n",
        "            deployment_token=class_deployment_token,\n",
        "            deployment_id=class_deployment_id,\n",
        "            document=text,\n",
        "        )\n",
        "        \n",
        "thread = threading.Thread(target=process_data, args=(sample_texts,))\n",
        "thread.start()\n",
        "\n",
        "while len(text_to_prediction) < 20:\n",
        "    IPython.display.clear_output(wait=True)\n",
        "    print(f'Predictions produced so far: {len(text_to_prediction)}')\n",
        "    time.sleep(1)\n",
        "print('Example prediction:')\n",
        "list(text_to_prediction.values())[0]"
      ]
    },
    {
      "cell_type": "code",
      "execution_count": 14,
      "id": "d8acbf22",
      "metadata": {
        "id": "d8acbf22",
        "outputId": "41afad3d-a714-4d3f-fc0b-9ed7da4d6d58",
        "colab": {
          "base_uri": "https://localhost:8080/"
        }
      },
      "outputs": [
        {
          "output_type": "stream",
          "name": "stdout",
          "text": [
            "Predictions made so far: 9\n",
            "\n",
            "Top scoring texts for: \"This text is about car price / cost / value for money\"\n",
            "\n",
            "Score = 0.2883518172703429\n",
            " 1st 95 went over 300k before being totalled by a truck running a red light. Walked away with no injuries. 2nd 95 le supercharged going strong at 155k. Just routine maintenance.  Bought a 96 dx with 68 k, like new on inside. Middle bench removes in 2 minutes, easy to haul things. 95s had the great swiveling middle captain chairs.  Could not resist a 1 owner 97 sc alltrac LE with 80k that I spotted on craigslist, talk about awesome in the snow!  These are fantastic, reliable vans and the best used van value ever.  Use as an enclosed pickup, or convert to a mini RV, loads of space inside.  Easy to fix minor quirks like higher mileage valve cover gasket leaks, coolant reservoir outlet tube obstruction by debris, SADS bushing replacement, etc.\n",
            "\n",
            "Score = 0.15134455736407249\n",
            " The gps system is effectively inoperative.  You can't get the enter key to hit a letter or other item with any sort of reliability.  Entering a street name could take twenty minutes.  The dealer here in Newark De, said that this is typical and fixing would cost a small fortune.  So I use a $150 garmin. Pathetic, don't you think?  I have about 50k miles on the car.  Also, the seat heaters stay on all the time, so I had to disconnect the fuses, so I lost that function.  I am a little disappointed in the car for these reasons.  Other than that, it has a beautiful ride with excellent mileage.  My next car will not be an Avalon - I may go to a Buick or a Lexus.\n",
            "\n",
            "Score = 0.14428038027931073\n",
            " Sold 86 Toyota Van 285K miles to be replaced with 97 Previa with 1st baby coming in Jun. Perfect to carry 2nd kid in 99. Also carried Mom, Dad, Father-in-law to doctor's appt. Use mostly for reserve weekend duty. Did not change remote bat 6 yrs later. Did reg maint oil/filter chg every 3K. Used in business for 6 yrs as modified pick up truck by removing middle seat & folding 3rd row. Kids love this because they can lie down and sleep and watch tv. Our kids and parents in their 80s enjoyed trips to NY, VA, FL, LA, GA, TN, SC, NC, AL, TX, MA, CO. With this economy we are glad to have Toyotas in our family. Camry 02 replaced 88 Celica. Convinced five younger brothers to get Toyotas. They did.\n",
            "\n",
            "Score = 0.13034949118751663\n",
            " This is the most disappointing car I've ever owned. Although it's comfortable, quiet, roomy and has a great stereo, it's had 3 recalls. Other than the notorious gas pedal problem, it also has a recall on a defective oil supply line going to the valves. If this bursts like mine did you may very well destroy your engine and the only warning you will get is the sound of your engine seizing up! The transmission is jerky but no recall for that yet. If you already own one of these cars, call your dealer NOW and tell them you want the oil supply line replaced at once (for free) or you'll be very sorry. They will not warn you about this problem ahead of time by sending you a letter so call today.\n",
            "\n",
            "Score = 0.11135271185200864\n",
            " Bought this Avy in 2007 used with 1200 miles on it.  A limo operator had it but traded it for two Lincoln Town Cars!  I traveled for work and put 125k on it in three years without a single problem.  Car now has 150k on it and it's as strong and comfy as ever.  Had to put 1k in it three years ago but that's the only repair besides tires and brakes in all this time and mileage.  Car rides smooth and quiet all day at 80 mph these days just as it did when I bought it.  Now and then I think about getting something newer but then I take the Avy to the car wash and get it shined up and cleaned inside and I'm good for another year.  This is, without a doubt, the best car I've ever owned in my 71 years.  Well, to tell the truth, it's really tied with a 1997 Camry we have that has 125k on it.  It, too, runs like a sewing machine.\n",
            "\n"
          ]
        }
      ],
      "source": [
        "predictions = []\n",
        "for text in sample_texts:\n",
        "    if text not in text_to_prediction:\n",
        "        break\n",
        "    else:\n",
        "        predictions.append(text_to_prediction[text])\n",
        "print(f'Predictions made so far: {len(predictions)}\\n')\n",
        "query = list(predictions[0].keys())[1]\n",
        "print(f'Top scoring texts for: \"{query}\"\\n')\n",
        "scores = [s[query] for s in predictions]\n",
        "arg_sort = np.argsort(-np.array(scores))\n",
        "for i in arg_sort[:5]:\n",
        "    print(f'Score = {scores[i]}')\n",
        "    print(sample_texts[i])\n",
        "    print('')"
      ]
    },
    {
      "cell_type": "markdown",
      "id": "f2973945",
      "metadata": {
        "id": "f2973945"
      },
      "source": [
        "# Build a named entity recognition (NER) model"
      ]
    },
    {
      "cell_type": "code",
      "execution_count": 15,
      "id": "645be391",
      "metadata": {
        "id": "645be391",
        "outputId": "33efbb68-8183-467d-a1d7-b4c894b3da29",
        "colab": {
          "base_uri": "https://localhost:8080/"
        }
      },
      "outputs": [
        {
          "output_type": "execute_result",
          "data": {
            "text/plain": [
              "{'annotations': [{'displayName': 'product',\n",
              "   'maxProbability': 0.8041383028030396,\n",
              "   'textExtraction': {'textSegment': {'endOffset': 22,\n",
              "     'phrase': ' Toyota Camry',\n",
              "     'startOffset': 9}}}],\n",
              " 'displayNames': ['actor',\n",
              "  'amenity',\n",
              "  'award',\n",
              "  'cardinal number',\n",
              "  'cell line',\n",
              "  'cell type',\n",
              "  'character name',\n",
              "  'chemical',\n",
              "  'corporation',\n",
              "  'cuisine',\n",
              "  'date',\n",
              "  'director',\n",
              "  'disease',\n",
              "  'dish',\n",
              "  'dna',\n",
              "  'event',\n",
              "  'facility',\n",
              "  'genre',\n",
              "  'geopolitical area',\n",
              "  'group',\n",
              "  'language',\n",
              "  'law',\n",
              "  'location',\n",
              "  'money',\n",
              "  'opinion',\n",
              "  'ordinal number',\n",
              "  'organization',\n",
              "  'origin',\n",
              "  'other',\n",
              "  'percent',\n",
              "  'person',\n",
              "  'plot',\n",
              "  'product',\n",
              "  'protein',\n",
              "  'quantity',\n",
              "  'quote',\n",
              "  'rating',\n",
              "  'relationship',\n",
              "  'restaurant',\n",
              "  'rna',\n",
              "  'soundtrack',\n",
              "  'time',\n",
              "  'work of art'],\n",
              " 'maxTokens': [[[' Cam', 16, 20], 0.004662696272134781],\n",
              "  [[' Cam', 16, 20], 0.0037545389495790005],\n",
              "  [[' Cam', 16, 20], 0.0027482372242957354],\n",
              "  [[' Cam', 16, 20], 0.0024817748926579952],\n",
              "  [[' Cam', 16, 20], 0.0022039152681827545],\n",
              "  [[' Cam', 16, 20], 0.001813239767216146],\n",
              "  [['ry', 20, 22], 0.0036253705620765686],\n",
              "  [[' Cam', 16, 20], 0.002645616652444005],\n",
              "  [[' Toyota', 9, 16], 0.014025782234966755],\n",
              "  [[' Cam', 16, 20], 0.004077414516359568],\n",
              "  [['ry', 20, 22], 0.00343546224758029],\n",
              "  [[' Toyota', 9, 16], 0.0050245625898242],\n",
              "  [[' Cam', 16, 20], 0.004086588509380817],\n",
              "  [['ry', 20, 22], 0.005752315279096365],\n",
              "  [[' Cam', 16, 20], 0.0030780646484345198],\n",
              "  [[' Cam', 16, 20], 0.003070828504860401],\n",
              "  [[' Toyota', 9, 16], 0.006501892115920782],\n",
              "  [[' Cam', 16, 20], 0.005746220704168081],\n",
              "  [[' Cam', 16, 20], 0.005102172493934631],\n",
              "  [[' Toyota', 9, 16], 0.007854146882891655],\n",
              "  [[' Cam', 16, 20], 0.003222227096557617],\n",
              "  [[' Cam', 16, 20], 0.0015131764812394977],\n",
              "  [[' Toyota', 9, 16], 0.004071610979735851],\n",
              "  [[' Toyota', 9, 16], 0.004073105752468109],\n",
              "  [['ry', 20, 22], 0.0026789475232362747],\n",
              "  [[' Toyota', 9, 16], 0.0011545168235898018],\n",
              "  [[' Toyota', 9, 16], 0.018983403220772743],\n",
              "  [[' Toyota', 9, 16], 0.002260277746245265],\n",
              "  [[' Cam', 16, 20], 0.026893196627497673],\n",
              "  [[' Cam', 16, 20], 0.002064585918560624],\n",
              "  [[' Toyota', 9, 16], 0.0035097976215183735],\n",
              "  [[' Cam', 16, 20], 0.005090014543384314],\n",
              "  [[' Toyota', 9, 16], 0.8041383028030396],\n",
              "  [[' Cam', 16, 20], 0.002896621823310852],\n",
              "  [[' Cam', 16, 20], 0.0027305607218295336],\n",
              "  [['ry', 20, 22], 0.012409457936882973],\n",
              "  [['ry', 20, 22], 0.0037225026171654463],\n",
              "  [[' Toyota', 9, 16], 0.0038108723238110542],\n",
              "  [[' Cam', 16, 20], 0.017268791794776917],\n",
              "  [[' Cam', 16, 20], 0.0023346911184489727],\n",
              "  [[' Cam', 16, 20], 0.0033244676887989044],\n",
              "  [['ry', 20, 22], 0.001955732237547636],\n",
              "  [[' Toyota', 9, 16], 0.009363257326185703]],\n",
              " 'offsets': [[0, 1], [1, 6], [6, 9], [9, 16], [16, 20], [20, 22], [22, 23]],\n",
              " 'scores': [[1.3932451565779047e-06,\n",
              "   4.8006763790908735e-06,\n",
              "   1.085559460989316e-06,\n",
              "   8.964265362010337e-06,\n",
              "   2.664406110852724e-06,\n",
              "   3.263355893068365e-06,\n",
              "   1.858101086327224e-06,\n",
              "   2.9600673769891728e-06,\n",
              "   3.127056515950244e-06,\n",
              "   1.4229573253032868e-06,\n",
              "   1.4439525330089964e-05,\n",
              "   8.568640623707324e-07,\n",
              "   5.119213710713666e-06,\n",
              "   2.154701178369578e-06,\n",
              "   4.216683009872213e-06,\n",
              "   2.2195752080733655e-06,\n",
              "   2.279517275383114e-06,\n",
              "   1.9914700715162326e-06,\n",
              "   4.146603259869153e-06,\n",
              "   5.934629371040501e-06,\n",
              "   4.222545726406679e-07,\n",
              "   2.3519378373748623e-06,\n",
              "   1.2576422705024015e-05,\n",
              "   4.062419066030998e-06,\n",
              "   6.08520713285543e-06,\n",
              "   2.507936414986034e-06,\n",
              "   3.861691948259249e-05,\n",
              "   2.5789668143261224e-06,\n",
              "   2.981680381708429e-06,\n",
              "   1.3386040791374398e-06,\n",
              "   1.4799772543483414e-05,\n",
              "   2.1456209651660174e-05,\n",
              "   1.0821695468621328e-05,\n",
              "   4.179109055257868e-06,\n",
              "   1.6127239632623969e-06,\n",
              "   3.5026405384996906e-06,\n",
              "   4.646561592380749e-06,\n",
              "   2.994275746459607e-06,\n",
              "   1.9455928850220516e-06,\n",
              "   1.503479438724753e-06,\n",
              "   8.604565095993166e-07,\n",
              "   4.531708327704109e-06,\n",
              "   9.594590665074065e-06],\n",
              "  [2.510259719201713e-06,\n",
              "   1.016571513900999e-05,\n",
              "   2.389001792835188e-06,\n",
              "   1.7435640984331258e-05,\n",
              "   4.1702351154526696e-06,\n",
              "   4.953626557835378e-06,\n",
              "   3.090962536589359e-06,\n",
              "   5.1003585213038605e-06,\n",
              "   5.9276530919305515e-06,\n",
              "   2.5283479772042483e-06,\n",
              "   2.003771260206122e-05,\n",
              "   2.309825731572346e-06,\n",
              "   9.959105227608234e-06,\n",
              "   4.144264039496193e-06,\n",
              "   1.0211108019575477e-05,\n",
              "   2.8503079647634877e-06,\n",
              "   4.089488811587216e-06,\n",
              "   5.654395408782875e-06,\n",
              "   6.315787231869763e-06,\n",
              "   8.92224761628313e-06,\n",
              "   8.134572340168233e-07,\n",
              "   3.98562042391859e-06,\n",
              "   1.9870229152729735e-05,\n",
              "   7.4203071562806144e-06,\n",
              "   1.6483636500197463e-05,\n",
              "   4.670915132010123e-06,\n",
              "   6.590192060684785e-05,\n",
              "   4.513188287091907e-06,\n",
              "   7.1007348196872044e-06,\n",
              "   2.540377408877248e-06,\n",
              "   2.2674545107292943e-05,\n",
              "   3.85429993912112e-05,\n",
              "   2.851290992111899e-05,\n",
              "   6.53222150504007e-06,\n",
              "   3.0766632335144095e-06,\n",
              "   8.66367463459028e-06,\n",
              "   1.0367296454205643e-05,\n",
              "   5.37390496901935e-06,\n",
              "   3.4572203730931506e-06,\n",
              "   2.93244647764368e-06,\n",
              "   2.168110768252518e-06,\n",
              "   8.178262760338839e-06,\n",
              "   2.1822361304657534e-05],\n",
              "  [3.576270273697446e-06,\n",
              "   1.4201188605511561e-05,\n",
              "   3.3476626413175836e-06,\n",
              "   2.3981754566193558e-05,\n",
              "   6.420356839953456e-06,\n",
              "   8.919536412577145e-06,\n",
              "   4.8525816964684054e-06,\n",
              "   7.3611281550256535e-06,\n",
              "   1.7743550415616482e-05,\n",
              "   3.941198883694597e-06,\n",
              "   3.444961839704774e-05,\n",
              "   3.5951325116911903e-06,\n",
              "   1.507266097178217e-05,\n",
              "   8.857736247591674e-06,\n",
              "   1.5688323401263915e-05,\n",
              "   6.5686317611834966e-06,\n",
              "   8.897362022253219e-06,\n",
              "   7.310731234611012e-06,\n",
              "   1.0597679647617042e-05,\n",
              "   1.4157988516672049e-05,\n",
              "   1.796539208953618e-06,\n",
              "   6.336662409012206e-06,\n",
              "   2.8210079108248465e-05,\n",
              "   1.1707685189321637e-05,\n",
              "   1.991706812987104e-05,\n",
              "   4.381080543680582e-06,\n",
              "   9.363977005705237e-05,\n",
              "   7.735747203696519e-06,\n",
              "   1.1879978046636097e-05,\n",
              "   3.5185853448638227e-06,\n",
              "   2.8483893402153626e-05,\n",
              "   6.233059684745967e-05,\n",
              "   0.00011162086593685672,\n",
              "   9.400824637850747e-06,\n",
              "   5.1028860070800874e-06,\n",
              "   1.5914100004010834e-05,\n",
              "   1.536728086648509e-05,\n",
              "   9.99716758087743e-06,\n",
              "   5.265687832434196e-06,\n",
              "   4.4646544665738475e-06,\n",
              "   2.547266831243178e-06,\n",
              "   1.2596987289725803e-05,\n",
              "   2.5476107111899182e-05],\n",
              "  [0.002948387525975704,\n",
              "   0.003656752873212099,\n",
              "   0.0019402450416237116,\n",
              "   0.002060764702036977,\n",
              "   0.0016825993079692125,\n",
              "   0.0014287943486124277,\n",
              "   0.0023584216833114624,\n",
              "   0.0016752005321905017,\n",
              "   0.014025782234966755,\n",
              "   0.003441393841058016,\n",
              "   0.002936601173132658,\n",
              "   0.0050245625898242,\n",
              "   0.001830203109420836,\n",
              "   0.003384141717106104,\n",
              "   0.002166392747312784,\n",
              "   0.0030702133662998676,\n",
              "   0.006501892115920782,\n",
              "   0.0030700056813657284,\n",
              "   0.003065098077058792,\n",
              "   0.007854146882891655,\n",
              "   0.0030837866943329573,\n",
              "   0.00134579511359334,\n",
              "   0.004071610979735851,\n",
              "   0.004073105752468109,\n",
              "   0.0021303067915141582,\n",
              "   0.0011545168235898018,\n",
              "   0.018983403220772743,\n",
              "   0.002260277746245265,\n",
              "   0.014575442299246788,\n",
              "   0.0014120268169790506,\n",
              "   0.0035097976215183735,\n",
              "   0.004136049188673496,\n",
              "   0.8041383028030396,\n",
              "   0.00203904346562922,\n",
              "   0.0017650658264756203,\n",
              "   0.005809906870126724,\n",
              "   0.0031304219737648964,\n",
              "   0.0038108723238110542,\n",
              "   0.015399879775941372,\n",
              "   0.0010530853178352118,\n",
              "   0.002505755051970482,\n",
              "   0.0017951368354260921,\n",
              "   0.009363257326185703],\n",
              "  [0.004662696272134781,\n",
              "   0.0037545389495790005,\n",
              "   0.0027482372242957354,\n",
              "   0.0024817748926579952,\n",
              "   0.0022039152681827545,\n",
              "   0.001813239767216146,\n",
              "   0.003597785020247102,\n",
              "   0.002645616652444005,\n",
              "   0.007480878382921219,\n",
              "   0.004077414516359568,\n",
              "   0.0030478439293801785,\n",
              "   0.0037243906408548355,\n",
              "   0.004086588509380817,\n",
              "   0.00562899187207222,\n",
              "   0.0030780646484345198,\n",
              "   0.003070828504860401,\n",
              "   0.004400673322379589,\n",
              "   0.005746220704168081,\n",
              "   0.005102172493934631,\n",
              "   0.0069359480403363705,\n",
              "   0.003222227096557617,\n",
              "   0.0015131764812394977,\n",
              "   0.004009825177490711,\n",
              "   0.003057196270674467,\n",
              "   0.0024647279642522335,\n",
              "   0.0010200983379036188,\n",
              "   0.009237277321517467,\n",
              "   0.0015571506228297949,\n",
              "   0.026893196627497673,\n",
              "   0.002064585918560624,\n",
              "   0.003057502442970872,\n",
              "   0.005090014543384314,\n",
              "   0.788352370262146,\n",
              "   0.002896621823310852,\n",
              "   0.0027305607218295336,\n",
              "   0.010608718730509281,\n",
              "   0.003703103866428137,\n",
              "   0.0038044885732233524,\n",
              "   0.017268791794776917,\n",
              "   0.0023346911184489727,\n",
              "   0.0033244676887989044,\n",
              "   0.00172357726842165,\n",
              "   0.007630001753568649],\n",
              "  [0.0041675204411149025,\n",
              "   0.003368258010596037,\n",
              "   0.0023152029607445,\n",
              "   0.0023334803991019726,\n",
              "   0.0020254505798220634,\n",
              "   0.0017434980254620314,\n",
              "   0.0036253705620765686,\n",
              "   0.002392692258581519,\n",
              "   0.007241012062877417,\n",
              "   0.003480029059574008,\n",
              "   0.00343546224758029,\n",
              "   0.003255230374634266,\n",
              "   0.003703505266457796,\n",
              "   0.005752315279096365,\n",
              "   0.0030105530750006437,\n",
              "   0.0028085564263164997,\n",
              "   0.0038646748289465904,\n",
              "   0.005681144073605537,\n",
              "   0.004866949748247862,\n",
              "   0.006457112263888121,\n",
              "   0.0027749533765017986,\n",
              "   0.001294656191021204,\n",
              "   0.0038307346403598785,\n",
              "   0.002905051689594984,\n",
              "   0.0026789475232362747,\n",
              "   0.0007936892798170447,\n",
              "   0.00865098461508751,\n",
              "   0.0014451327733695507,\n",
              "   0.02568398416042328,\n",
              "   0.0019843471236526966,\n",
              "   0.0028761180583387613,\n",
              "   0.004266238305717707,\n",
              "   0.7931135892868042,\n",
              "   0.0021891361102461815,\n",
              "   0.0022215035278350115,\n",
              "   0.012409457936882973,\n",
              "   0.0037225026171654463,\n",
              "   0.003366039367392659,\n",
              "   0.012591253034770489,\n",
              "   0.0019383388571441174,\n",
              "   0.003125646850094199,\n",
              "   0.001955732237547636,\n",
              "   0.007595439441502094],\n",
              "  [5.153512574906927e-06,\n",
              "   1.1783319678215776e-05,\n",
              "   1.974731958398479e-06,\n",
              "   2.22354028664995e-05,\n",
              "   5.51842458662577e-06,\n",
              "   6.764767022104934e-06,\n",
              "   5.926237463427242e-06,\n",
              "   1.0154711162613239e-05,\n",
              "   8.395579243369866e-06,\n",
              "   4.491144409257686e-06,\n",
              "   2.5828030629782006e-05,\n",
              "   1.8670100416784408e-06,\n",
              "   1.3306294931680895e-05,\n",
              "   1.0570684025879018e-05,\n",
              "   1.3982217751618009e-05,\n",
              "   4.1485745896352455e-06,\n",
              "   4.410705969348783e-06,\n",
              "   8.712579074199311e-06,\n",
              "   1.0632971680024639e-05,\n",
              "   1.540949597256258e-05,\n",
              "   1.575894884808804e-06,\n",
              "   4.439853000803851e-06,\n",
              "   4.821934271603823e-05,\n",
              "   7.148849363147747e-06,\n",
              "   1.4305307558970526e-05,\n",
              "   2.8157196538813878e-06,\n",
              "   0.00013553330791182816,\n",
              "   5.802877240057569e-06,\n",
              "   2.0300074538681656e-05,\n",
              "   3.186295089108171e-06,\n",
              "   5.62693239771761e-05,\n",
              "   3.986500087194145e-05,\n",
              "   6.217910413397476e-05,\n",
              "   1.748397153278347e-05,\n",
              "   3.5200723687012214e-06,\n",
              "   1.120778324548155e-05,\n",
              "   8.777165930951014e-06,\n",
              "   6.763217243133113e-06,\n",
              "   7.947523954499047e-06,\n",
              "   4.375465778139187e-06,\n",
              "   2.4603059500805102e-06,\n",
              "   8.862143658916466e-06,\n",
              "   2.127379775629379e-05]]}"
            ]
          },
          "metadata": {},
          "execution_count": 15
        }
      ],
      "source": [
        "ner_project = api_client.create_project('named_entity_recognition', use_case='NAMED_ENTITY_RECOGNITION')\n",
        "\n",
        "api_client.add_feature_group_to_project(\n",
        "    feature_group_id=feature_group, project_id=ner_project, feature_group_type='DOCUMENTS'\n",
        ")\n",
        "\n",
        "ner_project.set_feature_mapping(\n",
        "    feature_group_id=feature_group,\n",
        "    feature_name='review',\n",
        "    feature_mapping='DOCUMENT',\n",
        ")\n",
        "\n",
        "ner_model = ner_project.train_model(\n",
        "    name='ner_model_1',\n",
        "    training_config={'NER_MODEL_TYPE': \"pretrained uncased 43 categories\"}\n",
        ")\n",
        "\n",
        "ner_model.wait_for_full_automl()\n",
        "\n",
        "ner_deployment = api_client.create_deployment(model_id=ner_model)\n",
        "\n",
        "ner_deployment = ner_deployment.wait_for_deployment()\n",
        "\n",
        "ner_deployment_token = ner_project.list_deployment_tokens()[0]\n",
        "\n",
        "ner_deployment_id = ner_deployment.deployment_id\n",
        "ner_deployment_token = ner_deployment_token\n",
        "\n",
        "client.get_labels(deployment_token=ner_deployment_token, deployment_id=ner_deployment_id, query_data={\"content\":\"I love my Toyota Camry!\"})"
      ]
    },
    {
      "cell_type": "code",
      "execution_count": 16,
      "id": "17ed4a48",
      "metadata": {
        "id": "17ed4a48",
        "outputId": "15dde9c9-0acf-45d6-8d90-8af73ddadf12",
        "colab": {
          "base_uri": "https://localhost:8080/"
        }
      },
      "outputs": [
        {
          "output_type": "stream",
          "name": "stderr",
          "text": [
            "100%|██████████| 100/100 [00:43<00:00,  2.32it/s]\n"
          ]
        }
      ],
      "source": [
        "tqdm._instances.clear()\n",
        "sample_texts = data['review'][:100]\n",
        "annotations = [\n",
        "    client.get_labels(deployment_token=ner_deployment_token, deployment_id=ner_deployment_id, query_data={'content': text})['annotations']\n",
        "    for text in tqdm(sample_texts)\n",
        "]"
      ]
    },
    {
      "cell_type": "code",
      "execution_count": 17,
      "id": "6aba53fd",
      "metadata": {
        "id": "6aba53fd",
        "outputId": "a6cafb85-c1da-4c95-e2e2-eac57a9ef863",
        "colab": {
          "base_uri": "https://localhost:8080/"
        }
      },
      "outputs": [
        {
          "output_type": "execute_result",
          "data": {
            "text/plain": [
              "[('product', 270),\n",
              " ('date', 113),\n",
              " ('cardinal number', 50),\n",
              " ('organization', 45),\n",
              " ('quantity', 21),\n",
              " ('location', 20),\n",
              " ('ordinal number', 18),\n",
              " ('money', 8),\n",
              " ('time', 6),\n",
              " ('group', 4)]"
            ]
          },
          "metadata": {},
          "execution_count": 17
        }
      ],
      "source": [
        "label_counts = collections.Counter([anno['displayName'] for anno_list in annotations for anno in anno_list])\n",
        "label_counts.most_common(10)"
      ]
    },
    {
      "cell_type": "code",
      "execution_count": 18,
      "id": "1411db68",
      "metadata": {
        "id": "1411db68",
        "outputId": "5d7a42f4-b3f2-4b92-8689-7a94194869e9",
        "colab": {
          "base_uri": "https://localhost:8080/"
        }
      },
      "outputs": [
        {
          "output_type": "execute_result",
          "data": {
            "text/plain": [
              "[('avalon', 63),\n",
              " ('toyota', 26),\n",
              " ('lexus', 9),\n",
              " ('avalon limited', 8),\n",
              " ('camry', 7),\n",
              " ('lacrosse', 5),\n",
              " ('infinity', 3),\n",
              " ('toyota avalon limited', 3),\n",
              " ('to', 3),\n",
              " ('sienna', 2)]"
            ]
          },
          "metadata": {},
          "execution_count": 18
        }
      ],
      "source": [
        "product_counts = collections.Counter([anno['textExtraction']['textSegment']['phrase'].strip().lower()\n",
        "                                      for anno_list in annotations for anno in anno_list if anno['displayName'] == 'product'])\n",
        "product_counts.most_common(10)"
      ]
    },
    {
      "cell_type": "markdown",
      "id": "d70bd419",
      "metadata": {
        "id": "d70bd419"
      },
      "source": [
        "# Combined analysis using multiple models"
      ]
    },
    {
      "cell_type": "code",
      "execution_count": 19,
      "id": "b460b843",
      "metadata": {
        "id": "b460b843",
        "outputId": "9e566d4e-d41b-4b09-bbe0-06858cd2ed0d",
        "colab": {
          "base_uri": "https://localhost:8080/"
        }
      },
      "outputs": [
        {
          "output_type": "execute_result",
          "data": {
            "text/plain": [
              "56"
            ]
          },
          "metadata": {},
          "execution_count": 19
        }
      ],
      "source": [
        "# Filter using NER\n",
        "\n",
        "filtered_texts = [\n",
        "    text\n",
        "    for text, anno_list in zip(sample_texts, annotations)\n",
        "    if any([anno['displayName'] == 'product' and 'avalon' in anno['textExtraction']['textSegment']['phrase'].strip().lower()\n",
        "           for anno in anno_list])\n",
        "]\n",
        "len(filtered_texts)"
      ]
    },
    {
      "cell_type": "code",
      "execution_count": 20,
      "id": "b2a30bde",
      "metadata": {
        "id": "b2a30bde",
        "outputId": "4364319d-15ac-466c-aa37-aff842889c5e",
        "colab": {
          "base_uri": "https://localhost:8080/"
        }
      },
      "outputs": [
        {
          "output_type": "stream",
          "name": "stdout",
          "text": [
            "Top scoring texts for: \"This text is about car price / cost / value for money\"\n",
            "\n",
            "0.15134455736407249\n",
            " The gps system is effectively inoperative.  You can't get the enter key to hit a letter or other item with any sort of reliability.  Entering a street name could take twenty minutes.  The dealer here in Newark De, said that this is typical and fixing would cost a small fortune.  So I use a $150 garmin. Pathetic, don't you think?  I have about 50k miles on the car.  Also, the seat heaters stay on all the time, so I had to disconnect the fuses, so I lost that function.  I am a little disappointed in the car for these reasons.  Other than that, it has a beautiful ride with excellent mileage.  My next car will not be an Avalon - I may go to a Buick or a Lexus.\n",
            "\n"
          ]
        }
      ],
      "source": [
        "# See top scores after the filter\n",
        "\n",
        "predictions = []\n",
        "for text in filtered_texts:\n",
        "    if text not in text_to_prediction:\n",
        "        break\n",
        "    else:\n",
        "        predictions.append(text_to_prediction[text])\n",
        "query = list(predictions[0].keys())[1]\n",
        "print(f'Top scoring texts for: \"{query}\"\\n')\n",
        "scores = [s[query] for s in predictions]\n",
        "arg_sort = np.argsort(-np.array(scores))\n",
        "for i in arg_sort[:5]:\n",
        "    print(scores[i])\n",
        "    print(filtered_texts[i])\n",
        "    print('')"
      ]
    }
  ],
  "metadata": {
    "kernelspec": {
      "display_name": "Python 3 (ipykernel)",
      "language": "python",
      "name": "python3"
    },
    "language_info": {
      "codemirror_mode": {
        "name": "ipython",
        "version": 3
      },
      "file_extension": ".py",
      "mimetype": "text/x-python",
      "name": "python",
      "nbconvert_exporter": "python",
      "pygments_lexer": "ipython3",
      "version": "3.8.10"
    },
    "colab": {
      "name": "2022-05-17-abacus-nlp-workshop.ipynb",
      "provenance": [],
      "collapsed_sections": [],
      "include_colab_link": true
    }
  },
  "nbformat": 4,
  "nbformat_minor": 5
}